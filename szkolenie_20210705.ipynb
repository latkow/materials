{
  "nbformat": 4,
  "nbformat_minor": 0,
  "metadata": {
    "colab": {
      "name": "szkolenie_20210705.ipynb",
      "provenance": [],
      "authorship_tag": "ABX9TyOYd/WQZiMrjDDRJId4M+5F",
      "include_colab_link": true
    },
    "kernelspec": {
      "name": "ir",
      "display_name": "R"
    },
    "language_info": {
      "name": "R"
    }
  },
  "cells": [
    {
      "cell_type": "markdown",
      "metadata": {
        "id": "view-in-github",
        "colab_type": "text"
      },
      "source": [
        "<a href=\"https://colab.research.google.com/github/latkow/materials/blob/main/szkolenie_20210705.ipynb\" target=\"_parent\"><img src=\"https://colab.research.google.com/assets/colab-badge.svg\" alt=\"Open In Colab\"/></a>"
      ]
    },
    {
      "cell_type": "markdown",
      "metadata": {
        "id": "5mlHbQJPRCWK"
      },
      "source": [
        "# Sekcja: instalacja pakietów\n",
        "Zainstalujemy pakiet `survey` oraz `vcd` (Visualisation of Categorical Data)"
      ]
    },
    {
      "cell_type": "markdown",
      "metadata": {
        "id": "c-1BLYNHSMky"
      },
      "source": [
        "Załadujmy pakiety na potrzeby dzisiejszej pracy."
      ]
    },
    {
      "cell_type": "code",
      "metadata": {
        "colab": {
          "base_uri": "https://localhost:8080/"
        },
        "id": "x5yRNmkWOpL_",
        "outputId": "c5dafef8-cad4-4075-b8bc-4724d53a86be"
      },
      "source": [
        "install.packages('survey')"
      ],
      "execution_count": 2,
      "outputs": [
        {
          "output_type": "stream",
          "text": [
            "Installing package into ‘/usr/local/lib/R/site-library’\n",
            "(as ‘lib’ is unspecified)\n",
            "\n",
            "also installing the dependencies ‘minqa’, ‘numDeriv’, ‘mitools’\n",
            "\n",
            "\n"
          ],
          "name": "stderr"
        }
      ]
    },
    {
      "cell_type": "code",
      "metadata": {
        "colab": {
          "base_uri": "https://localhost:8080/"
        },
        "id": "6hzRyZa4SPtK",
        "outputId": "c577bf07-566f-4d0a-cadc-5aca761f73ab"
      },
      "source": [
        "install.packages(\"vcd\")"
      ],
      "execution_count": 3,
      "outputs": [
        {
          "output_type": "stream",
          "text": [
            "Installing package into ‘/usr/local/lib/R/site-library’\n",
            "(as ‘lib’ is unspecified)\n",
            "\n",
            "also installing the dependencies ‘zoo’, ‘lmtest’\n",
            "\n",
            "\n"
          ],
          "name": "stderr"
        }
      ]
    },
    {
      "cell_type": "code",
      "metadata": {
        "colab": {
          "base_uri": "https://localhost:8080/"
        },
        "id": "-GPNYVr1SlFR",
        "outputId": "d964feb8-1523-48ad-df48-0ffde37d244d"
      },
      "source": [
        "library(survey) # wykorzystamy do post-stratyfikacji, kalibracij\n",
        "library(vcd) # do wsp. korelacji dla cech jakościowych\n",
        "library(tidyverse) ## przetwarzanie i wizualizacja danych"
      ],
      "execution_count": 4,
      "outputs": [
        {
          "output_type": "stream",
          "text": [
            "Loading required package: grid\n",
            "\n",
            "Loading required package: Matrix\n",
            "\n",
            "Loading required package: survival\n",
            "\n",
            "\n",
            "Attaching package: ‘survey’\n",
            "\n",
            "\n",
            "The following object is masked from ‘package:graphics’:\n",
            "\n",
            "    dotchart\n",
            "\n",
            "\n",
            "Warning message in system(\"timedatectl\", intern = TRUE):\n",
            "“running command 'timedatectl' had status 1”\n",
            "── \u001b[1mAttaching packages\u001b[22m ─────────────────────────────────────── tidyverse 1.3.1 ──\n",
            "\n",
            "\u001b[32m✔\u001b[39m \u001b[34mggplot2\u001b[39m 3.3.3     \u001b[32m✔\u001b[39m \u001b[34mpurrr  \u001b[39m 0.3.4\n",
            "\u001b[32m✔\u001b[39m \u001b[34mtibble \u001b[39m 3.1.2     \u001b[32m✔\u001b[39m \u001b[34mdplyr  \u001b[39m 1.0.6\n",
            "\u001b[32m✔\u001b[39m \u001b[34mtidyr  \u001b[39m 1.1.3     \u001b[32m✔\u001b[39m \u001b[34mstringr\u001b[39m 1.4.0\n",
            "\u001b[32m✔\u001b[39m \u001b[34mreadr  \u001b[39m 1.4.0     \u001b[32m✔\u001b[39m \u001b[34mforcats\u001b[39m 0.5.1\n",
            "\n",
            "── \u001b[1mConflicts\u001b[22m ────────────────────────────────────────── tidyverse_conflicts() ──\n",
            "\u001b[31m✖\u001b[39m \u001b[34mtidyr\u001b[39m::\u001b[32mexpand()\u001b[39m masks \u001b[34mMatrix\u001b[39m::expand()\n",
            "\u001b[31m✖\u001b[39m \u001b[34mdplyr\u001b[39m::\u001b[32mfilter()\u001b[39m masks \u001b[34mstats\u001b[39m::filter()\n",
            "\u001b[31m✖\u001b[39m \u001b[34mdplyr\u001b[39m::\u001b[32mlag()\u001b[39m    masks \u001b[34mstats\u001b[39m::lag()\n",
            "\u001b[31m✖\u001b[39m \u001b[34mtidyr\u001b[39m::\u001b[32mpack()\u001b[39m   masks \u001b[34mMatrix\u001b[39m::pack()\n",
            "\u001b[31m✖\u001b[39m \u001b[34mtidyr\u001b[39m::\u001b[32munpack()\u001b[39m masks \u001b[34mMatrix\u001b[39m::unpack()\n",
            "\n"
          ],
          "name": "stderr"
        }
      ]
    },
    {
      "cell_type": "markdown",
      "metadata": {
        "id": "q8MxzZMOTdYS"
      },
      "source": [
        "Wczytajmy dane\n",
        "bkl - badanie kapitału ludzkiego\n",
        "\n",
        "zmiennymi celu ($Y$) są dla nas kolumny zaczynające się od `komp_` czyli różne kompetencje. Natomiast zmiennymi objaśniającymi/pomocniczymi ($X$) to zawód, województwo i sekcja pkd."
      ]
    },
    {
      "cell_type": "code",
      "metadata": {
        "colab": {
          "base_uri": "https://localhost:8080/",
          "height": 303
        },
        "id": "FTNVVeMxTf5Z",
        "outputId": "1210a31c-2ab2-448d-e41d-6a902374654a"
      },
      "source": [
        "bkl <- readRDS('bkl.rds')\n",
        "head(bkl)"
      ],
      "execution_count": 5,
      "outputs": [
        {
          "output_type": "display_data",
          "data": {
            "text/plain": [
              "      id     zawod1 zawod2 zawod6 woj pkd komp_techniczne komp_matematyczne\n",
              "42425 626307 5      51     514202 04  M   0               0                \n",
              "42426 626305 5      51     514204 12  M   0               0                \n",
              "42427 617154 7      71     713104 14  C   0               0                \n",
              "42428 617155 7      71     713100 14  C   0               0                \n",
              "42429 632044 3      33     332203 24  C   0               0                \n",
              "42430 613019 3      33     332101 14  K   0               0                \n",
              "      komp_kulturalne komp_komputerowe komp_kognitywne komp_kierownicze\n",
              "42425 1               0                0               0               \n",
              "42426 0               0                0               0               \n",
              "42427 0               0                0               0               \n",
              "42428 0               0                0               0               \n",
              "42429 0               0                0               0               \n",
              "42430 0               0                0               0               \n",
              "      komp_interpersonalne komp_indywidualne komp_fizyczne komp_dyspozycyjne\n",
              "42425 0                    1                 0             0                \n",
              "42426 0                    0                 0             0                \n",
              "42427 0                    0                 0             0                \n",
              "42428 0                    0                 0             0                \n",
              "42429 1                    0                 1             0                \n",
              "42430 1                    1                 0             0                \n",
              "      komp_biurowe\n",
              "42425 0           \n",
              "42426 0           \n",
              "42427 0           \n",
              "42428 0           \n",
              "42429 0           \n",
              "42430 0           "
            ],
            "text/latex": "A data.frame: 6 × 17\n\\begin{tabular}{r|lllllllllllllllll}\n  & id & zawod1 & zawod2 & zawod6 & woj & pkd & komp\\_techniczne & komp\\_matematyczne & komp\\_kulturalne & komp\\_komputerowe & komp\\_kognitywne & komp\\_kierownicze & komp\\_interpersonalne & komp\\_indywidualne & komp\\_fizyczne & komp\\_dyspozycyjne & komp\\_biurowe\\\\\n  & <dbl> & <chr> & <chr> & <chr> & <chr> & <chr> & <int> & <int> & <int> & <int> & <int> & <int> & <int> & <int> & <int> & <int> & <int>\\\\\n\\hline\n\t42425 & 626307 & 5 & 51 & 514202 & 04 & M & 0 & 0 & 1 & 0 & 0 & 0 & 0 & 1 & 0 & 0 & 0\\\\\n\t42426 & 626305 & 5 & 51 & 514204 & 12 & M & 0 & 0 & 0 & 0 & 0 & 0 & 0 & 0 & 0 & 0 & 0\\\\\n\t42427 & 617154 & 7 & 71 & 713104 & 14 & C & 0 & 0 & 0 & 0 & 0 & 0 & 0 & 0 & 0 & 0 & 0\\\\\n\t42428 & 617155 & 7 & 71 & 713100 & 14 & C & 0 & 0 & 0 & 0 & 0 & 0 & 0 & 0 & 0 & 0 & 0\\\\\n\t42429 & 632044 & 3 & 33 & 332203 & 24 & C & 0 & 0 & 0 & 0 & 0 & 0 & 1 & 0 & 1 & 0 & 0\\\\\n\t42430 & 613019 & 3 & 33 & 332101 & 14 & K & 0 & 0 & 0 & 0 & 0 & 0 & 1 & 1 & 0 & 0 & 0\\\\\n\\end{tabular}\n",
            "text/markdown": "\nA data.frame: 6 × 17\n\n| <!--/--> | id &lt;dbl&gt; | zawod1 &lt;chr&gt; | zawod2 &lt;chr&gt; | zawod6 &lt;chr&gt; | woj &lt;chr&gt; | pkd &lt;chr&gt; | komp_techniczne &lt;int&gt; | komp_matematyczne &lt;int&gt; | komp_kulturalne &lt;int&gt; | komp_komputerowe &lt;int&gt; | komp_kognitywne &lt;int&gt; | komp_kierownicze &lt;int&gt; | komp_interpersonalne &lt;int&gt; | komp_indywidualne &lt;int&gt; | komp_fizyczne &lt;int&gt; | komp_dyspozycyjne &lt;int&gt; | komp_biurowe &lt;int&gt; |\n|---|---|---|---|---|---|---|---|---|---|---|---|---|---|---|---|---|---|\n| 42425 | 626307 | 5 | 51 | 514202 | 04 | M | 0 | 0 | 1 | 0 | 0 | 0 | 0 | 1 | 0 | 0 | 0 |\n| 42426 | 626305 | 5 | 51 | 514204 | 12 | M | 0 | 0 | 0 | 0 | 0 | 0 | 0 | 0 | 0 | 0 | 0 |\n| 42427 | 617154 | 7 | 71 | 713104 | 14 | C | 0 | 0 | 0 | 0 | 0 | 0 | 0 | 0 | 0 | 0 | 0 |\n| 42428 | 617155 | 7 | 71 | 713100 | 14 | C | 0 | 0 | 0 | 0 | 0 | 0 | 0 | 0 | 0 | 0 | 0 |\n| 42429 | 632044 | 3 | 33 | 332203 | 24 | C | 0 | 0 | 0 | 0 | 0 | 0 | 1 | 0 | 1 | 0 | 0 |\n| 42430 | 613019 | 3 | 33 | 332101 | 14 | K | 0 | 0 | 0 | 0 | 0 | 0 | 1 | 1 | 0 | 0 | 0 |\n\n",
            "text/html": [
              "<table class=\"dataframe\">\n",
              "<caption>A data.frame: 6 × 17</caption>\n",
              "<thead>\n",
              "\t<tr><th></th><th scope=col>id</th><th scope=col>zawod1</th><th scope=col>zawod2</th><th scope=col>zawod6</th><th scope=col>woj</th><th scope=col>pkd</th><th scope=col>komp_techniczne</th><th scope=col>komp_matematyczne</th><th scope=col>komp_kulturalne</th><th scope=col>komp_komputerowe</th><th scope=col>komp_kognitywne</th><th scope=col>komp_kierownicze</th><th scope=col>komp_interpersonalne</th><th scope=col>komp_indywidualne</th><th scope=col>komp_fizyczne</th><th scope=col>komp_dyspozycyjne</th><th scope=col>komp_biurowe</th></tr>\n",
              "\t<tr><th></th><th scope=col>&lt;dbl&gt;</th><th scope=col>&lt;chr&gt;</th><th scope=col>&lt;chr&gt;</th><th scope=col>&lt;chr&gt;</th><th scope=col>&lt;chr&gt;</th><th scope=col>&lt;chr&gt;</th><th scope=col>&lt;int&gt;</th><th scope=col>&lt;int&gt;</th><th scope=col>&lt;int&gt;</th><th scope=col>&lt;int&gt;</th><th scope=col>&lt;int&gt;</th><th scope=col>&lt;int&gt;</th><th scope=col>&lt;int&gt;</th><th scope=col>&lt;int&gt;</th><th scope=col>&lt;int&gt;</th><th scope=col>&lt;int&gt;</th><th scope=col>&lt;int&gt;</th></tr>\n",
              "</thead>\n",
              "<tbody>\n",
              "\t<tr><th scope=row>42425</th><td>626307</td><td>5</td><td>51</td><td>514202</td><td>04</td><td>M</td><td>0</td><td>0</td><td>1</td><td>0</td><td>0</td><td>0</td><td>0</td><td>1</td><td>0</td><td>0</td><td>0</td></tr>\n",
              "\t<tr><th scope=row>42426</th><td>626305</td><td>5</td><td>51</td><td>514204</td><td>12</td><td>M</td><td>0</td><td>0</td><td>0</td><td>0</td><td>0</td><td>0</td><td>0</td><td>0</td><td>0</td><td>0</td><td>0</td></tr>\n",
              "\t<tr><th scope=row>42427</th><td>617154</td><td>7</td><td>71</td><td>713104</td><td>14</td><td>C</td><td>0</td><td>0</td><td>0</td><td>0</td><td>0</td><td>0</td><td>0</td><td>0</td><td>0</td><td>0</td><td>0</td></tr>\n",
              "\t<tr><th scope=row>42428</th><td>617155</td><td>7</td><td>71</td><td>713100</td><td>14</td><td>C</td><td>0</td><td>0</td><td>0</td><td>0</td><td>0</td><td>0</td><td>0</td><td>0</td><td>0</td><td>0</td><td>0</td></tr>\n",
              "\t<tr><th scope=row>42429</th><td>632044</td><td>3</td><td>33</td><td>332203</td><td>24</td><td>C</td><td>0</td><td>0</td><td>0</td><td>0</td><td>0</td><td>0</td><td>1</td><td>0</td><td>1</td><td>0</td><td>0</td></tr>\n",
              "\t<tr><th scope=row>42430</th><td>613019</td><td>3</td><td>33</td><td>332101</td><td>14</td><td>K</td><td>0</td><td>0</td><td>0</td><td>0</td><td>0</td><td>0</td><td>1</td><td>1</td><td>0</td><td>0</td><td>0</td></tr>\n",
              "</tbody>\n",
              "</table>\n"
            ]
          },
          "metadata": {
            "tags": []
          }
        }
      ]
    },
    {
      "cell_type": "code",
      "metadata": {
        "colab": {
          "base_uri": "https://localhost:8080/",
          "height": 34
        },
        "id": "-AmwDm0JWIJI",
        "outputId": "455bdae2-66a7-47f0-bd82-5c9c2159aee8"
      },
      "source": [
        "dim(bkl)"
      ],
      "execution_count": 9,
      "outputs": [
        {
          "output_type": "display_data",
          "data": {
            "text/plain": [
              "[1] 12904    17"
            ],
            "text/latex": "\\begin{enumerate*}\n\\item 12904\n\\item 17\n\\end{enumerate*}\n",
            "text/markdown": "1. 12904\n2. 17\n\n\n",
            "text/html": [
              "<style>\n",
              ".list-inline {list-style: none; margin:0; padding: 0}\n",
              ".list-inline>li {display: inline-block}\n",
              ".list-inline>li:not(:last-child)::after {content: \"\\00b7\"; padding: 0 .5ex}\n",
              "</style>\n",
              "<ol class=list-inline><li>12904</li><li>17</li></ol>\n"
            ]
          },
          "metadata": {
            "tags": []
          }
        }
      ]
    },
    {
      "cell_type": "markdown",
      "metadata": {
        "id": "Sttm0jHjVrrB"
      },
      "source": [
        "Baniem, które chcemy wykorzystać do korektu będów nielosowych w BKL będzie badanie Popyt na Pracę GUS."
      ]
    },
    {
      "cell_type": "code",
      "metadata": {
        "colab": {
          "base_uri": "https://localhost:8080/",
          "height": 283
        },
        "id": "gqksH341V2d5",
        "outputId": "acf6415f-cc73-4327-8b51-08f77776ebce"
      },
      "source": [
        "popyt <- readRDS(\"popyt.rds\")\n",
        "head(popyt)"
      ],
      "execution_count": 8,
      "outputs": [
        {
          "output_type": "display_data",
          "data": {
            "text/plain": [
              "  id_popyt                                 woj waga sektor klasa pkd zawod1\n",
              "1 1da98b1d90d55a45173fbf52273388d023f88bda 30  18   2      M     J   3     \n",
              "2 ba9c01a6d5941fb21c6d85d5abee6714d5636ee4 10   1   2      D     C   8     \n",
              "3 772ab1f561648f4125d0432456225d74a083b5bb 22  33   2      M     I   5     \n",
              "4 af0b53b2f75d7edf652af5e3f65553641f1f587a 14   1   2      D     Q   4     \n",
              "5 ab7c3795293f57e4d68f8638878f0a9278e3936a 30   1   1      D     C   7     \n",
              "6 fd8b0d69ae13f2d1baee41f0f69a7da82be04137 10   1   1      S     G   2     \n",
              "  wakaty\n",
              "1  1    \n",
              "2 10    \n",
              "3  5    \n",
              "4  3    \n",
              "5  6    \n",
              "6  1    "
            ],
            "text/latex": "A data.frame: 6 × 8\n\\begin{tabular}{r|llllllll}\n  & id\\_popyt & woj & waga & sektor & klasa & pkd & zawod1 & wakaty\\\\\n  & <chr> & <chr> & <dbl> & <chr> & <chr> & <chr> & <fct> & <dbl>\\\\\n\\hline\n\t1 & 1da98b1d90d55a45173fbf52273388d023f88bda & 30 & 18 & 2 & M & J & 3 &  1\\\\\n\t2 & ba9c01a6d5941fb21c6d85d5abee6714d5636ee4 & 10 &  1 & 2 & D & C & 8 & 10\\\\\n\t3 & 772ab1f561648f4125d0432456225d74a083b5bb & 22 & 33 & 2 & M & I & 5 &  5\\\\\n\t4 & af0b53b2f75d7edf652af5e3f65553641f1f587a & 14 &  1 & 2 & D & Q & 4 &  3\\\\\n\t5 & ab7c3795293f57e4d68f8638878f0a9278e3936a & 30 &  1 & 1 & D & C & 7 &  6\\\\\n\t6 & fd8b0d69ae13f2d1baee41f0f69a7da82be04137 & 10 &  1 & 1 & S & G & 2 &  1\\\\\n\\end{tabular}\n",
            "text/markdown": "\nA data.frame: 6 × 8\n\n| <!--/--> | id_popyt &lt;chr&gt; | woj &lt;chr&gt; | waga &lt;dbl&gt; | sektor &lt;chr&gt; | klasa &lt;chr&gt; | pkd &lt;chr&gt; | zawod1 &lt;fct&gt; | wakaty &lt;dbl&gt; |\n|---|---|---|---|---|---|---|---|---|\n| 1 | 1da98b1d90d55a45173fbf52273388d023f88bda | 30 | 18 | 2 | M | J | 3 |  1 |\n| 2 | ba9c01a6d5941fb21c6d85d5abee6714d5636ee4 | 10 |  1 | 2 | D | C | 8 | 10 |\n| 3 | 772ab1f561648f4125d0432456225d74a083b5bb | 22 | 33 | 2 | M | I | 5 |  5 |\n| 4 | af0b53b2f75d7edf652af5e3f65553641f1f587a | 14 |  1 | 2 | D | Q | 4 |  3 |\n| 5 | ab7c3795293f57e4d68f8638878f0a9278e3936a | 30 |  1 | 1 | D | C | 7 |  6 |\n| 6 | fd8b0d69ae13f2d1baee41f0f69a7da82be04137 | 10 |  1 | 1 | S | G | 2 |  1 |\n\n",
            "text/html": [
              "<table class=\"dataframe\">\n",
              "<caption>A data.frame: 6 × 8</caption>\n",
              "<thead>\n",
              "\t<tr><th></th><th scope=col>id_popyt</th><th scope=col>woj</th><th scope=col>waga</th><th scope=col>sektor</th><th scope=col>klasa</th><th scope=col>pkd</th><th scope=col>zawod1</th><th scope=col>wakaty</th></tr>\n",
              "\t<tr><th></th><th scope=col>&lt;chr&gt;</th><th scope=col>&lt;chr&gt;</th><th scope=col>&lt;dbl&gt;</th><th scope=col>&lt;chr&gt;</th><th scope=col>&lt;chr&gt;</th><th scope=col>&lt;chr&gt;</th><th scope=col>&lt;fct&gt;</th><th scope=col>&lt;dbl&gt;</th></tr>\n",
              "</thead>\n",
              "<tbody>\n",
              "\t<tr><th scope=row>1</th><td>1da98b1d90d55a45173fbf52273388d023f88bda</td><td>30</td><td>18</td><td>2</td><td>M</td><td>J</td><td>3</td><td> 1</td></tr>\n",
              "\t<tr><th scope=row>2</th><td>ba9c01a6d5941fb21c6d85d5abee6714d5636ee4</td><td>10</td><td> 1</td><td>2</td><td>D</td><td>C</td><td>8</td><td>10</td></tr>\n",
              "\t<tr><th scope=row>3</th><td>772ab1f561648f4125d0432456225d74a083b5bb</td><td>22</td><td>33</td><td>2</td><td>M</td><td>I</td><td>5</td><td> 5</td></tr>\n",
              "\t<tr><th scope=row>4</th><td>af0b53b2f75d7edf652af5e3f65553641f1f587a</td><td>14</td><td> 1</td><td>2</td><td>D</td><td>Q</td><td>4</td><td> 3</td></tr>\n",
              "\t<tr><th scope=row>5</th><td>ab7c3795293f57e4d68f8638878f0a9278e3936a</td><td>30</td><td> 1</td><td>1</td><td>D</td><td>C</td><td>7</td><td> 6</td></tr>\n",
              "\t<tr><th scope=row>6</th><td>fd8b0d69ae13f2d1baee41f0f69a7da82be04137</td><td>10</td><td> 1</td><td>1</td><td>S</td><td>G</td><td>2</td><td> 1</td></tr>\n",
              "</tbody>\n",
              "</table>\n"
            ]
          },
          "metadata": {
            "tags": []
          }
        }
      ]
    },
    {
      "cell_type": "code",
      "metadata": {
        "colab": {
          "base_uri": "https://localhost:8080/",
          "height": 34
        },
        "id": "u4VMlsSRWKkA",
        "outputId": "b27b4c6d-a666-4ca3-975e-f8bfe0f84b85"
      },
      "source": [
        "dim(popyt)"
      ],
      "execution_count": 10,
      "outputs": [
        {
          "output_type": "display_data",
          "data": {
            "text/plain": [
              "[1] 10422     8"
            ],
            "text/latex": "\\begin{enumerate*}\n\\item 10422\n\\item 8\n\\end{enumerate*}\n",
            "text/markdown": "1. 10422\n2. 8\n\n\n",
            "text/html": [
              "<style>\n",
              ".list-inline {list-style: none; margin:0; padding: 0}\n",
              ".list-inline>li {display: inline-block}\n",
              ".list-inline>li:not(:last-child)::after {content: \"\\00b7\"; padding: 0 .5ex}\n",
              "</style>\n",
              "<ol class=list-inline><li>10422</li><li>8</li></ol>\n"
            ]
          },
          "metadata": {
            "tags": []
          }
        }
      ]
    },
    {
      "cell_type": "code",
      "metadata": {
        "colab": {
          "base_uri": "https://localhost:8080/",
          "height": 34
        },
        "id": "O0_5NnUlX6cT",
        "outputId": "793c6d2b-370c-404c-fc1c-1edd297d67ed"
      },
      "source": [
        "sum(popyt$waga) # sumowanie do liczby podmiotów ze zgłoszonymi wolnymi miejscami pracy"
      ],
      "execution_count": 11,
      "outputs": [
        {
          "output_type": "display_data",
          "data": {
            "text/plain": [
              "[1] 66021"
            ],
            "text/latex": "66021",
            "text/markdown": "66021",
            "text/html": [
              "66021"
            ]
          },
          "metadata": {
            "tags": []
          }
        }
      ]
    },
    {
      "cell_type": "code",
      "metadata": {
        "colab": {
          "base_uri": "https://localhost:8080/",
          "height": 34
        },
        "id": "H4ZcnfedZrZ_",
        "outputId": "f049980f-597d-4e69-df02-69763130e53c"
      },
      "source": [
        "c(\"Liczba podmiotów\" = sum(popyt$waga), \"Liczba zgłoszonych wakatów\" = sum(popyt$waga* popyt$wakaty))"
      ],
      "execution_count": 12,
      "outputs": [
        {
          "output_type": "display_data",
          "data": {
            "text/plain": [
              "          Liczba podmiotów Liczba zgłoszonych wakatów \n",
              "                     66021                     155373 "
            ],
            "text/latex": "\\begin{description*}\n\\item[Liczba podmiotów] 66021\n\\item[Liczba zgłoszonych wakatów] 155373\n\\end{description*}\n",
            "text/markdown": "Liczba podmiotów\n:   66021Liczba zgłoszonych wakatów\n:   155373\n\n",
            "text/html": [
              "<style>\n",
              ".dl-inline {width: auto; margin:0; padding: 0}\n",
              ".dl-inline>dt, .dl-inline>dd {float: none; width: auto; display: inline-block}\n",
              ".dl-inline>dt::after {content: \":\\0020\"; padding-right: .5ex}\n",
              ".dl-inline>dt:not(:first-of-type) {padding-left: .5ex}\n",
              "</style><dl class=dl-inline><dt>Liczba podmiotów</dt><dd>66021</dd><dt>Liczba zgłoszonych wakatów</dt><dd>155373</dd></dl>\n"
            ]
          },
          "metadata": {
            "tags": []
          }
        }
      ]
    },
    {
      "cell_type": "markdown",
      "metadata": {
        "id": "WnuA2eOnnuKB"
      },
      "source": [
        "## Sprawdzamy zmienne X i Y\n",
        "\n",
        "Sprawdźmy jak dobrze skorelowane są X (czyli pk, zawod1, woj) ze zmiennymi celu Y (kompetencje komputerowe i interpersonalne)"
      ]
    },
    {
      "cell_type": "code",
      "metadata": {
        "colab": {
          "base_uri": "https://localhost:8080/",
          "height": 493
        },
        "id": "IhPniaMNok2i",
        "outputId": "e56021ae-3a44-4df9-943f-b7d85d61839d"
      },
      "source": [
        "tab1a <- xtabs(~ komp_komputerowe + pkd, data=bkl)\n",
        "tab1b <- xtabs(~ komp_komputerowe + zawod1, data=bkl)\n",
        "tab2a <- xtabs(~ komp_interpersonalne + pkd, data=bkl)\n",
        "tab2b <- xtabs(~ komp_interpersonalne + zawod1, data=bkl)\n",
        "\n",
        "## w pakiecie vsd mamy funkcję assocstats, która liczby wsp. V-Cramer'a\n",
        "assocstats(tab1a) ## 0.304 \n",
        "assocstats(tab1b) ## 0.288\n",
        "assocstats(tab2a) ## 0.274\n",
        "assocstats(tab2b) ## 0.352"
      ],
      "execution_count": 15,
      "outputs": [
        {
          "output_type": "display_data",
          "data": {
            "text/plain": [
              "                    X^2 df P(> X^2)\n",
              "Likelihood Ratio 1173.2 16        0\n",
              "Pearson          1189.5 16        0\n",
              "\n",
              "Phi-Coefficient   : NA \n",
              "Contingency Coeff.: 0.291 \n",
              "Cramer's V        : 0.304 "
            ]
          },
          "metadata": {
            "tags": []
          }
        },
        {
          "output_type": "display_data",
          "data": {
            "text/plain": [
              "                    X^2 df P(> X^2)\n",
              "Likelihood Ratio 1185.9  7        0\n",
              "Pearson          1073.9  7        0\n",
              "\n",
              "Phi-Coefficient   : NA \n",
              "Contingency Coeff.: 0.277 \n",
              "Cramer's V        : 0.288 "
            ]
          },
          "metadata": {
            "tags": []
          }
        },
        {
          "output_type": "display_data",
          "data": {
            "text/plain": [
              "                     X^2 df P(> X^2)\n",
              "Likelihood Ratio 1059.85 16        0\n",
              "Pearson           969.11 16        0\n",
              "\n",
              "Phi-Coefficient   : NA \n",
              "Contingency Coeff.: 0.264 \n",
              "Cramer's V        : 0.274 "
            ]
          },
          "metadata": {
            "tags": []
          }
        },
        {
          "output_type": "display_data",
          "data": {
            "text/plain": [
              "                    X^2 df P(> X^2)\n",
              "Likelihood Ratio 1659.5  7        0\n",
              "Pearson          1599.2  7        0\n",
              "\n",
              "Phi-Coefficient   : NA \n",
              "Contingency Coeff.: 0.332 \n",
              "Cramer's V        : 0.352 "
            ]
          },
          "metadata": {
            "tags": []
          }
        }
      ]
    },
    {
      "cell_type": "markdown",
      "metadata": {
        "id": "jjiHprCXmduR"
      },
      "source": [
        "## Post-stratyfikacja\n",
        "Do post-stratyfikacji potrzebujemy wartości globalnych dotyczących liczby wakatów. Na potrzeby tego przykłądu wykorzystamy dwie zmienne: sekcję PKD (`pkd`) oraz kod zawodu (`zawod1`).\n",
        "\n",
        "Aby przypisać wagi do zbioru `bkl` wykorzystamy funkcję z pakiety `tidyverse`, a dokładnie funkcję `count` oraz `left_join`.\n",
        "\n",
        "Post-stratyfikację dokonamy w dwóch krokach:\n",
        "1. z wykorzystaniem funkcji `count` wyznaczymy liczbę wakatów wg sekcji PKD oraz zawodów,\n",
        "2. dołączymy tę informację do zbioru `bkl` i wykorzystamy do estymacji."
      ]
    },
    {
      "cell_type": "code",
      "metadata": {
        "colab": {
          "base_uri": "https://localhost:8080/",
          "height": 1000
        },
        "id": "YfOx-Ysknjk3",
        "outputId": "9e0b790a-9b3e-4dd8-8f5d-8cb09a5b20a6"
      },
      "source": [
        "wartosci_globalne <- popyt %>% count(pkd, zawod1 = as.character(zawod1), wt = waga * wakaty, name =\"total\")\n",
        "wartosci_globalne"
      ],
      "execution_count": 17,
      "outputs": [
        {
          "output_type": "display_data",
          "data": {
            "text/plain": [
              "    pkd zawod1 total\n",
              "1   A   2         22\n",
              "2   A   3         24\n",
              "3   A   4          8\n",
              "4   A   5         37\n",
              "5   A   7         85\n",
              "6   A   8         54\n",
              "7   A   9        258\n",
              "8   B   1         10\n",
              "9   B   2         66\n",
              "10  B   3          4\n",
              "11  B   4         21\n",
              "12  B   7         53\n",
              "13  B   8        101\n",
              "14  C   1        523\n",
              "15  C   2       2806\n",
              "16  C   3       1737\n",
              "17  C   4        914\n",
              "18  C   5        368\n",
              "19  C   7      20686\n",
              "20  C   8       8631\n",
              "21  C   9       1300\n",
              "22  D   1         15\n",
              "23  D   2        240\n",
              "24  D   3         16\n",
              "25  D   4         17\n",
              "26  D   5         15\n",
              "27  D   7        117\n",
              "28  D   8         85\n",
              "29  D   9          4\n",
              "30  E   1         49\n",
              "⋮   ⋮   ⋮      ⋮    \n",
              "117 P   3       135 \n",
              "118 P   4       206 \n",
              "119 P   5       122 \n",
              "120 P   7        51 \n",
              "121 P   8        11 \n",
              "122 P   9       296 \n",
              "123 Q   1        36 \n",
              "124 Q   2      3494 \n",
              "125 Q   3       958 \n",
              "126 Q   4       250 \n",
              "127 Q   5       263 \n",
              "128 Q   7        32 \n",
              "129 Q   8        25 \n",
              "130 Q   9       281 \n",
              "131 R   1        28 \n",
              "132 R   2       214 \n",
              "133 R   3       145 \n",
              "134 R   4       131 \n",
              "135 R   5        87 \n",
              "136 R   7        34 \n",
              "137 R   8        21 \n",
              "138 R   9       119 \n",
              "139 S   1        34 \n",
              "140 S   2        86 \n",
              "141 S   3        75 \n",
              "142 S   4       202 \n",
              "143 S   5      1926 \n",
              "144 S   7       105 \n",
              "145 S   8        64 \n",
              "146 S   9       197 "
            ],
            "text/latex": "A data.frame: 146 × 3\n\\begin{tabular}{lll}\n pkd & zawod1 & total\\\\\n <chr> & <chr> & <dbl>\\\\\n\\hline\n\t A & 2 &    22\\\\\n\t A & 3 &    24\\\\\n\t A & 4 &     8\\\\\n\t A & 5 &    37\\\\\n\t A & 7 &    85\\\\\n\t A & 8 &    54\\\\\n\t A & 9 &   258\\\\\n\t B & 1 &    10\\\\\n\t B & 2 &    66\\\\\n\t B & 3 &     4\\\\\n\t B & 4 &    21\\\\\n\t B & 7 &    53\\\\\n\t B & 8 &   101\\\\\n\t C & 1 &   523\\\\\n\t C & 2 &  2806\\\\\n\t C & 3 &  1737\\\\\n\t C & 4 &   914\\\\\n\t C & 5 &   368\\\\\n\t C & 7 & 20686\\\\\n\t C & 8 &  8631\\\\\n\t C & 9 &  1300\\\\\n\t D & 1 &    15\\\\\n\t D & 2 &   240\\\\\n\t D & 3 &    16\\\\\n\t D & 4 &    17\\\\\n\t D & 5 &    15\\\\\n\t D & 7 &   117\\\\\n\t D & 8 &    85\\\\\n\t D & 9 &     4\\\\\n\t E & 1 &    49\\\\\n\t ⋮ & ⋮ & ⋮\\\\\n\t P & 3 &  135\\\\\n\t P & 4 &  206\\\\\n\t P & 5 &  122\\\\\n\t P & 7 &   51\\\\\n\t P & 8 &   11\\\\\n\t P & 9 &  296\\\\\n\t Q & 1 &   36\\\\\n\t Q & 2 & 3494\\\\\n\t Q & 3 &  958\\\\\n\t Q & 4 &  250\\\\\n\t Q & 5 &  263\\\\\n\t Q & 7 &   32\\\\\n\t Q & 8 &   25\\\\\n\t Q & 9 &  281\\\\\n\t R & 1 &   28\\\\\n\t R & 2 &  214\\\\\n\t R & 3 &  145\\\\\n\t R & 4 &  131\\\\\n\t R & 5 &   87\\\\\n\t R & 7 &   34\\\\\n\t R & 8 &   21\\\\\n\t R & 9 &  119\\\\\n\t S & 1 &   34\\\\\n\t S & 2 &   86\\\\\n\t S & 3 &   75\\\\\n\t S & 4 &  202\\\\\n\t S & 5 & 1926\\\\\n\t S & 7 &  105\\\\\n\t S & 8 &   64\\\\\n\t S & 9 &  197\\\\\n\\end{tabular}\n",
            "text/markdown": "\nA data.frame: 146 × 3\n\n| pkd &lt;chr&gt; | zawod1 &lt;chr&gt; | total &lt;dbl&gt; |\n|---|---|---|\n| A | 2 |    22 |\n| A | 3 |    24 |\n| A | 4 |     8 |\n| A | 5 |    37 |\n| A | 7 |    85 |\n| A | 8 |    54 |\n| A | 9 |   258 |\n| B | 1 |    10 |\n| B | 2 |    66 |\n| B | 3 |     4 |\n| B | 4 |    21 |\n| B | 7 |    53 |\n| B | 8 |   101 |\n| C | 1 |   523 |\n| C | 2 |  2806 |\n| C | 3 |  1737 |\n| C | 4 |   914 |\n| C | 5 |   368 |\n| C | 7 | 20686 |\n| C | 8 |  8631 |\n| C | 9 |  1300 |\n| D | 1 |    15 |\n| D | 2 |   240 |\n| D | 3 |    16 |\n| D | 4 |    17 |\n| D | 5 |    15 |\n| D | 7 |   117 |\n| D | 8 |    85 |\n| D | 9 |     4 |\n| E | 1 |    49 |\n| ⋮ | ⋮ | ⋮ |\n| P | 3 |  135 |\n| P | 4 |  206 |\n| P | 5 |  122 |\n| P | 7 |   51 |\n| P | 8 |   11 |\n| P | 9 |  296 |\n| Q | 1 |   36 |\n| Q | 2 | 3494 |\n| Q | 3 |  958 |\n| Q | 4 |  250 |\n| Q | 5 |  263 |\n| Q | 7 |   32 |\n| Q | 8 |   25 |\n| Q | 9 |  281 |\n| R | 1 |   28 |\n| R | 2 |  214 |\n| R | 3 |  145 |\n| R | 4 |  131 |\n| R | 5 |   87 |\n| R | 7 |   34 |\n| R | 8 |   21 |\n| R | 9 |  119 |\n| S | 1 |   34 |\n| S | 2 |   86 |\n| S | 3 |   75 |\n| S | 4 |  202 |\n| S | 5 | 1926 |\n| S | 7 |  105 |\n| S | 8 |   64 |\n| S | 9 |  197 |\n\n",
            "text/html": [
              "<table class=\"dataframe\">\n",
              "<caption>A data.frame: 146 × 3</caption>\n",
              "<thead>\n",
              "\t<tr><th scope=col>pkd</th><th scope=col>zawod1</th><th scope=col>total</th></tr>\n",
              "\t<tr><th scope=col>&lt;chr&gt;</th><th scope=col>&lt;chr&gt;</th><th scope=col>&lt;dbl&gt;</th></tr>\n",
              "</thead>\n",
              "<tbody>\n",
              "\t<tr><td>A</td><td>2</td><td>   22</td></tr>\n",
              "\t<tr><td>A</td><td>3</td><td>   24</td></tr>\n",
              "\t<tr><td>A</td><td>4</td><td>    8</td></tr>\n",
              "\t<tr><td>A</td><td>5</td><td>   37</td></tr>\n",
              "\t<tr><td>A</td><td>7</td><td>   85</td></tr>\n",
              "\t<tr><td>A</td><td>8</td><td>   54</td></tr>\n",
              "\t<tr><td>A</td><td>9</td><td>  258</td></tr>\n",
              "\t<tr><td>B</td><td>1</td><td>   10</td></tr>\n",
              "\t<tr><td>B</td><td>2</td><td>   66</td></tr>\n",
              "\t<tr><td>B</td><td>3</td><td>    4</td></tr>\n",
              "\t<tr><td>B</td><td>4</td><td>   21</td></tr>\n",
              "\t<tr><td>B</td><td>7</td><td>   53</td></tr>\n",
              "\t<tr><td>B</td><td>8</td><td>  101</td></tr>\n",
              "\t<tr><td>C</td><td>1</td><td>  523</td></tr>\n",
              "\t<tr><td>C</td><td>2</td><td> 2806</td></tr>\n",
              "\t<tr><td>C</td><td>3</td><td> 1737</td></tr>\n",
              "\t<tr><td>C</td><td>4</td><td>  914</td></tr>\n",
              "\t<tr><td>C</td><td>5</td><td>  368</td></tr>\n",
              "\t<tr><td>C</td><td>7</td><td>20686</td></tr>\n",
              "\t<tr><td>C</td><td>8</td><td> 8631</td></tr>\n",
              "\t<tr><td>C</td><td>9</td><td> 1300</td></tr>\n",
              "\t<tr><td>D</td><td>1</td><td>   15</td></tr>\n",
              "\t<tr><td>D</td><td>2</td><td>  240</td></tr>\n",
              "\t<tr><td>D</td><td>3</td><td>   16</td></tr>\n",
              "\t<tr><td>D</td><td>4</td><td>   17</td></tr>\n",
              "\t<tr><td>D</td><td>5</td><td>   15</td></tr>\n",
              "\t<tr><td>D</td><td>7</td><td>  117</td></tr>\n",
              "\t<tr><td>D</td><td>8</td><td>   85</td></tr>\n",
              "\t<tr><td>D</td><td>9</td><td>    4</td></tr>\n",
              "\t<tr><td>E</td><td>1</td><td>   49</td></tr>\n",
              "\t<tr><td>⋮</td><td>⋮</td><td>⋮</td></tr>\n",
              "\t<tr><td>P</td><td>3</td><td> 135</td></tr>\n",
              "\t<tr><td>P</td><td>4</td><td> 206</td></tr>\n",
              "\t<tr><td>P</td><td>5</td><td> 122</td></tr>\n",
              "\t<tr><td>P</td><td>7</td><td>  51</td></tr>\n",
              "\t<tr><td>P</td><td>8</td><td>  11</td></tr>\n",
              "\t<tr><td>P</td><td>9</td><td> 296</td></tr>\n",
              "\t<tr><td>Q</td><td>1</td><td>  36</td></tr>\n",
              "\t<tr><td>Q</td><td>2</td><td>3494</td></tr>\n",
              "\t<tr><td>Q</td><td>3</td><td> 958</td></tr>\n",
              "\t<tr><td>Q</td><td>4</td><td> 250</td></tr>\n",
              "\t<tr><td>Q</td><td>5</td><td> 263</td></tr>\n",
              "\t<tr><td>Q</td><td>7</td><td>  32</td></tr>\n",
              "\t<tr><td>Q</td><td>8</td><td>  25</td></tr>\n",
              "\t<tr><td>Q</td><td>9</td><td> 281</td></tr>\n",
              "\t<tr><td>R</td><td>1</td><td>  28</td></tr>\n",
              "\t<tr><td>R</td><td>2</td><td> 214</td></tr>\n",
              "\t<tr><td>R</td><td>3</td><td> 145</td></tr>\n",
              "\t<tr><td>R</td><td>4</td><td> 131</td></tr>\n",
              "\t<tr><td>R</td><td>5</td><td>  87</td></tr>\n",
              "\t<tr><td>R</td><td>7</td><td>  34</td></tr>\n",
              "\t<tr><td>R</td><td>8</td><td>  21</td></tr>\n",
              "\t<tr><td>R</td><td>9</td><td> 119</td></tr>\n",
              "\t<tr><td>S</td><td>1</td><td>  34</td></tr>\n",
              "\t<tr><td>S</td><td>2</td><td>  86</td></tr>\n",
              "\t<tr><td>S</td><td>3</td><td>  75</td></tr>\n",
              "\t<tr><td>S</td><td>4</td><td> 202</td></tr>\n",
              "\t<tr><td>S</td><td>5</td><td>1926</td></tr>\n",
              "\t<tr><td>S</td><td>7</td><td> 105</td></tr>\n",
              "\t<tr><td>S</td><td>8</td><td>  64</td></tr>\n",
              "\t<tr><td>S</td><td>9</td><td> 197</td></tr>\n",
              "</tbody>\n",
              "</table>\n"
            ]
          },
          "metadata": {
            "tags": []
          }
        }
      ]
    },
    {
      "cell_type": "markdown",
      "metadata": {
        "id": "X5F-CgQjri6Q"
      },
      "source": [
        "drugi krok -- przygotowujemy dane z bkl"
      ]
    },
    {
      "cell_type": "code",
      "metadata": {
        "colab": {
          "base_uri": "https://localhost:8080/",
          "height": 283
        },
        "id": "pCWI6oa0reAp",
        "outputId": "48ff363a-4dd6-4881-a471-58b30b74c3c4"
      },
      "source": [
        "bkl_komp <- bkl %>% count(pkd, zawod1, komp_komputerowe)\n",
        "bkl_inter <- bkl %>% count(pkd, zawod1, komp_interpersonalne)\n",
        "head(bkl_komp)"
      ],
      "execution_count": 18,
      "outputs": [
        {
          "output_type": "display_data",
          "data": {
            "text/plain": [
              "  pkd zawod1 komp_komputerowe n  \n",
              "1 C   1      0                244\n",
              "2 C   1      1                 86\n",
              "3 C   2      0                818\n",
              "4 C   2      1                620\n",
              "5 C   3      0                812\n",
              "6 C   3      1                349"
            ],
            "text/latex": "A data.frame: 6 × 4\n\\begin{tabular}{r|llll}\n  & pkd & zawod1 & komp\\_komputerowe & n\\\\\n  & <chr> & <chr> & <int> & <int>\\\\\n\\hline\n\t1 & C & 1 & 0 & 244\\\\\n\t2 & C & 1 & 1 &  86\\\\\n\t3 & C & 2 & 0 & 818\\\\\n\t4 & C & 2 & 1 & 620\\\\\n\t5 & C & 3 & 0 & 812\\\\\n\t6 & C & 3 & 1 & 349\\\\\n\\end{tabular}\n",
            "text/markdown": "\nA data.frame: 6 × 4\n\n| <!--/--> | pkd &lt;chr&gt; | zawod1 &lt;chr&gt; | komp_komputerowe &lt;int&gt; | n &lt;int&gt; |\n|---|---|---|---|---|\n| 1 | C | 1 | 0 | 244 |\n| 2 | C | 1 | 1 |  86 |\n| 3 | C | 2 | 0 | 818 |\n| 4 | C | 2 | 1 | 620 |\n| 5 | C | 3 | 0 | 812 |\n| 6 | C | 3 | 1 | 349 |\n\n",
            "text/html": [
              "<table class=\"dataframe\">\n",
              "<caption>A data.frame: 6 × 4</caption>\n",
              "<thead>\n",
              "\t<tr><th></th><th scope=col>pkd</th><th scope=col>zawod1</th><th scope=col>komp_komputerowe</th><th scope=col>n</th></tr>\n",
              "\t<tr><th></th><th scope=col>&lt;chr&gt;</th><th scope=col>&lt;chr&gt;</th><th scope=col>&lt;int&gt;</th><th scope=col>&lt;int&gt;</th></tr>\n",
              "</thead>\n",
              "<tbody>\n",
              "\t<tr><th scope=row>1</th><td>C</td><td>1</td><td>0</td><td>244</td></tr>\n",
              "\t<tr><th scope=row>2</th><td>C</td><td>1</td><td>1</td><td> 86</td></tr>\n",
              "\t<tr><th scope=row>3</th><td>C</td><td>2</td><td>0</td><td>818</td></tr>\n",
              "\t<tr><th scope=row>4</th><td>C</td><td>2</td><td>1</td><td>620</td></tr>\n",
              "\t<tr><th scope=row>5</th><td>C</td><td>3</td><td>0</td><td>812</td></tr>\n",
              "\t<tr><th scope=row>6</th><td>C</td><td>3</td><td>1</td><td>349</td></tr>\n",
              "</tbody>\n",
              "</table>\n"
            ]
          },
          "metadata": {
            "tags": []
          }
        }
      ]
    },
    {
      "cell_type": "markdown",
      "metadata": {
        "id": "5WlpFj3ZsErp"
      },
      "source": [
        "dołączamy informacje o liczbie wakatów w populacji (zbiór `wartosci_globalne`)"
      ]
    },
    {
      "cell_type": "code",
      "metadata": {
        "colab": {
          "base_uri": "https://localhost:8080/",
          "height": 1000
        },
        "id": "DytVmYrFt1Zm",
        "outputId": "07dc6942-cd62-4440-e946-f59e33dca3d8"
      },
      "source": [
        "bkl_komp_total <- bkl_komp %>% left_join(wartosci_globalne)\n",
        "bkl_komp_total"
      ],
      "execution_count": 25,
      "outputs": [
        {
          "output_type": "stream",
          "text": [
            "Joining, by = c(\"pkd\", \"zawod1\")\n",
            "\n"
          ],
          "name": "stderr"
        },
        {
          "output_type": "display_data",
          "data": {
            "text/plain": [
              "    pkd zawod1 komp_komputerowe n   total\n",
              "1   C   1      0                244   523\n",
              "2   C   1      1                 86   523\n",
              "3   C   2      0                818  2806\n",
              "4   C   2      1                620  2806\n",
              "5   C   3      0                812  1737\n",
              "6   C   3      1                349  1737\n",
              "7   C   4      0                 91   914\n",
              "8   C   4      1                 73   914\n",
              "9   C   5      0                449   368\n",
              "10  C   5      1                173   368\n",
              "11  C   7      0                534 20686\n",
              "12  C   7      1                 33 20686\n",
              "13  C   8      0                 66  8631\n",
              "14  C   8      1                 11  8631\n",
              "15  C   9      0                 54  1300\n",
              "16  C   9      1                  2  1300\n",
              "17  D   1      0                  2    15\n",
              "18  D   1      1                  2    15\n",
              "19  D   2      0                 25   240\n",
              "20  D   2      1                  7   240\n",
              "21  D   3      0                252    16\n",
              "22  D   3      1                 53    16\n",
              "23  D   4      0                  2    17\n",
              "24  D   4      1                  3    17\n",
              "25  D   5      0                403    15\n",
              "26  D   5      1                 83    15\n",
              "27  E   1      1                  1    49\n",
              "28  E   2      0                 39    62\n",
              "29  E   2      1                 22    62\n",
              "30  E   3      0                  1    93\n",
              "⋮   ⋮   ⋮      ⋮                ⋮   ⋮    \n",
              "170 Q   2      0                11  3494 \n",
              "171 Q   2      1                 3  3494 \n",
              "172 Q   3      0                15   958 \n",
              "173 Q   3      1                 1   958 \n",
              "174 Q   4      0                 1   250 \n",
              "175 Q   4      1                 2   250 \n",
              "176 Q   5      0                11   263 \n",
              "177 Q   5      1                 1   263 \n",
              "178 Q   8      0                 1    25 \n",
              "179 R   1      0                17    28 \n",
              "180 R   1      1                13    28 \n",
              "181 R   2      0                 5   214 \n",
              "182 R   3      0                 7   145 \n",
              "183 R   3      1                 5   145 \n",
              "184 R   4      0                 8   131 \n",
              "185 R   5      0                43    87 \n",
              "186 R   5      1                 2    87 \n",
              "187 R   9      0                41   119 \n",
              "188 S   1      0                 4    34 \n",
              "189 S   1      1                 4    34 \n",
              "190 S   2      0                10    86 \n",
              "191 S   2      1                17    86 \n",
              "192 S   3      0                14    75 \n",
              "193 S   3      1                 4    75 \n",
              "194 S   4      0                 4   202 \n",
              "195 S   5      0                11  1926 \n",
              "196 S   5      1                 5  1926 \n",
              "197 S   7      0                 1   105 \n",
              "198 S   9      0                 1   197 \n",
              "199 S   9      1                 1   197 "
            ],
            "text/latex": "A data.frame: 199 × 5\n\\begin{tabular}{lllll}\n pkd & zawod1 & komp\\_komputerowe & n & total\\\\\n <chr> & <chr> & <int> & <int> & <dbl>\\\\\n\\hline\n\t C & 1 & 0 & 244 &   523\\\\\n\t C & 1 & 1 &  86 &   523\\\\\n\t C & 2 & 0 & 818 &  2806\\\\\n\t C & 2 & 1 & 620 &  2806\\\\\n\t C & 3 & 0 & 812 &  1737\\\\\n\t C & 3 & 1 & 349 &  1737\\\\\n\t C & 4 & 0 &  91 &   914\\\\\n\t C & 4 & 1 &  73 &   914\\\\\n\t C & 5 & 0 & 449 &   368\\\\\n\t C & 5 & 1 & 173 &   368\\\\\n\t C & 7 & 0 & 534 & 20686\\\\\n\t C & 7 & 1 &  33 & 20686\\\\\n\t C & 8 & 0 &  66 &  8631\\\\\n\t C & 8 & 1 &  11 &  8631\\\\\n\t C & 9 & 0 &  54 &  1300\\\\\n\t C & 9 & 1 &   2 &  1300\\\\\n\t D & 1 & 0 &   2 &    15\\\\\n\t D & 1 & 1 &   2 &    15\\\\\n\t D & 2 & 0 &  25 &   240\\\\\n\t D & 2 & 1 &   7 &   240\\\\\n\t D & 3 & 0 & 252 &    16\\\\\n\t D & 3 & 1 &  53 &    16\\\\\n\t D & 4 & 0 &   2 &    17\\\\\n\t D & 4 & 1 &   3 &    17\\\\\n\t D & 5 & 0 & 403 &    15\\\\\n\t D & 5 & 1 &  83 &    15\\\\\n\t E & 1 & 1 &   1 &    49\\\\\n\t E & 2 & 0 &  39 &    62\\\\\n\t E & 2 & 1 &  22 &    62\\\\\n\t E & 3 & 0 &   1 &    93\\\\\n\t ⋮ & ⋮ & ⋮ & ⋮ & ⋮\\\\\n\t Q & 2 & 0 & 11 & 3494\\\\\n\t Q & 2 & 1 &  3 & 3494\\\\\n\t Q & 3 & 0 & 15 &  958\\\\\n\t Q & 3 & 1 &  1 &  958\\\\\n\t Q & 4 & 0 &  1 &  250\\\\\n\t Q & 4 & 1 &  2 &  250\\\\\n\t Q & 5 & 0 & 11 &  263\\\\\n\t Q & 5 & 1 &  1 &  263\\\\\n\t Q & 8 & 0 &  1 &   25\\\\\n\t R & 1 & 0 & 17 &   28\\\\\n\t R & 1 & 1 & 13 &   28\\\\\n\t R & 2 & 0 &  5 &  214\\\\\n\t R & 3 & 0 &  7 &  145\\\\\n\t R & 3 & 1 &  5 &  145\\\\\n\t R & 4 & 0 &  8 &  131\\\\\n\t R & 5 & 0 & 43 &   87\\\\\n\t R & 5 & 1 &  2 &   87\\\\\n\t R & 9 & 0 & 41 &  119\\\\\n\t S & 1 & 0 &  4 &   34\\\\\n\t S & 1 & 1 &  4 &   34\\\\\n\t S & 2 & 0 & 10 &   86\\\\\n\t S & 2 & 1 & 17 &   86\\\\\n\t S & 3 & 0 & 14 &   75\\\\\n\t S & 3 & 1 &  4 &   75\\\\\n\t S & 4 & 0 &  4 &  202\\\\\n\t S & 5 & 0 & 11 & 1926\\\\\n\t S & 5 & 1 &  5 & 1926\\\\\n\t S & 7 & 0 &  1 &  105\\\\\n\t S & 9 & 0 &  1 &  197\\\\\n\t S & 9 & 1 &  1 &  197\\\\\n\\end{tabular}\n",
            "text/markdown": "\nA data.frame: 199 × 5\n\n| pkd &lt;chr&gt; | zawod1 &lt;chr&gt; | komp_komputerowe &lt;int&gt; | n &lt;int&gt; | total &lt;dbl&gt; |\n|---|---|---|---|---|\n| C | 1 | 0 | 244 |   523 |\n| C | 1 | 1 |  86 |   523 |\n| C | 2 | 0 | 818 |  2806 |\n| C | 2 | 1 | 620 |  2806 |\n| C | 3 | 0 | 812 |  1737 |\n| C | 3 | 1 | 349 |  1737 |\n| C | 4 | 0 |  91 |   914 |\n| C | 4 | 1 |  73 |   914 |\n| C | 5 | 0 | 449 |   368 |\n| C | 5 | 1 | 173 |   368 |\n| C | 7 | 0 | 534 | 20686 |\n| C | 7 | 1 |  33 | 20686 |\n| C | 8 | 0 |  66 |  8631 |\n| C | 8 | 1 |  11 |  8631 |\n| C | 9 | 0 |  54 |  1300 |\n| C | 9 | 1 |   2 |  1300 |\n| D | 1 | 0 |   2 |    15 |\n| D | 1 | 1 |   2 |    15 |\n| D | 2 | 0 |  25 |   240 |\n| D | 2 | 1 |   7 |   240 |\n| D | 3 | 0 | 252 |    16 |\n| D | 3 | 1 |  53 |    16 |\n| D | 4 | 0 |   2 |    17 |\n| D | 4 | 1 |   3 |    17 |\n| D | 5 | 0 | 403 |    15 |\n| D | 5 | 1 |  83 |    15 |\n| E | 1 | 1 |   1 |    49 |\n| E | 2 | 0 |  39 |    62 |\n| E | 2 | 1 |  22 |    62 |\n| E | 3 | 0 |   1 |    93 |\n| ⋮ | ⋮ | ⋮ | ⋮ | ⋮ |\n| Q | 2 | 0 | 11 | 3494 |\n| Q | 2 | 1 |  3 | 3494 |\n| Q | 3 | 0 | 15 |  958 |\n| Q | 3 | 1 |  1 |  958 |\n| Q | 4 | 0 |  1 |  250 |\n| Q | 4 | 1 |  2 |  250 |\n| Q | 5 | 0 | 11 |  263 |\n| Q | 5 | 1 |  1 |  263 |\n| Q | 8 | 0 |  1 |   25 |\n| R | 1 | 0 | 17 |   28 |\n| R | 1 | 1 | 13 |   28 |\n| R | 2 | 0 |  5 |  214 |\n| R | 3 | 0 |  7 |  145 |\n| R | 3 | 1 |  5 |  145 |\n| R | 4 | 0 |  8 |  131 |\n| R | 5 | 0 | 43 |   87 |\n| R | 5 | 1 |  2 |   87 |\n| R | 9 | 0 | 41 |  119 |\n| S | 1 | 0 |  4 |   34 |\n| S | 1 | 1 |  4 |   34 |\n| S | 2 | 0 | 10 |   86 |\n| S | 2 | 1 | 17 |   86 |\n| S | 3 | 0 | 14 |   75 |\n| S | 3 | 1 |  4 |   75 |\n| S | 4 | 0 |  4 |  202 |\n| S | 5 | 0 | 11 | 1926 |\n| S | 5 | 1 |  5 | 1926 |\n| S | 7 | 0 |  1 |  105 |\n| S | 9 | 0 |  1 |  197 |\n| S | 9 | 1 |  1 |  197 |\n\n",
            "text/html": [
              "<table class=\"dataframe\">\n",
              "<caption>A data.frame: 199 × 5</caption>\n",
              "<thead>\n",
              "\t<tr><th scope=col>pkd</th><th scope=col>zawod1</th><th scope=col>komp_komputerowe</th><th scope=col>n</th><th scope=col>total</th></tr>\n",
              "\t<tr><th scope=col>&lt;chr&gt;</th><th scope=col>&lt;chr&gt;</th><th scope=col>&lt;int&gt;</th><th scope=col>&lt;int&gt;</th><th scope=col>&lt;dbl&gt;</th></tr>\n",
              "</thead>\n",
              "<tbody>\n",
              "\t<tr><td>C</td><td>1</td><td>0</td><td>244</td><td>  523</td></tr>\n",
              "\t<tr><td>C</td><td>1</td><td>1</td><td> 86</td><td>  523</td></tr>\n",
              "\t<tr><td>C</td><td>2</td><td>0</td><td>818</td><td> 2806</td></tr>\n",
              "\t<tr><td>C</td><td>2</td><td>1</td><td>620</td><td> 2806</td></tr>\n",
              "\t<tr><td>C</td><td>3</td><td>0</td><td>812</td><td> 1737</td></tr>\n",
              "\t<tr><td>C</td><td>3</td><td>1</td><td>349</td><td> 1737</td></tr>\n",
              "\t<tr><td>C</td><td>4</td><td>0</td><td> 91</td><td>  914</td></tr>\n",
              "\t<tr><td>C</td><td>4</td><td>1</td><td> 73</td><td>  914</td></tr>\n",
              "\t<tr><td>C</td><td>5</td><td>0</td><td>449</td><td>  368</td></tr>\n",
              "\t<tr><td>C</td><td>5</td><td>1</td><td>173</td><td>  368</td></tr>\n",
              "\t<tr><td>C</td><td>7</td><td>0</td><td>534</td><td>20686</td></tr>\n",
              "\t<tr><td>C</td><td>7</td><td>1</td><td> 33</td><td>20686</td></tr>\n",
              "\t<tr><td>C</td><td>8</td><td>0</td><td> 66</td><td> 8631</td></tr>\n",
              "\t<tr><td>C</td><td>8</td><td>1</td><td> 11</td><td> 8631</td></tr>\n",
              "\t<tr><td>C</td><td>9</td><td>0</td><td> 54</td><td> 1300</td></tr>\n",
              "\t<tr><td>C</td><td>9</td><td>1</td><td>  2</td><td> 1300</td></tr>\n",
              "\t<tr><td>D</td><td>1</td><td>0</td><td>  2</td><td>   15</td></tr>\n",
              "\t<tr><td>D</td><td>1</td><td>1</td><td>  2</td><td>   15</td></tr>\n",
              "\t<tr><td>D</td><td>2</td><td>0</td><td> 25</td><td>  240</td></tr>\n",
              "\t<tr><td>D</td><td>2</td><td>1</td><td>  7</td><td>  240</td></tr>\n",
              "\t<tr><td>D</td><td>3</td><td>0</td><td>252</td><td>   16</td></tr>\n",
              "\t<tr><td>D</td><td>3</td><td>1</td><td> 53</td><td>   16</td></tr>\n",
              "\t<tr><td>D</td><td>4</td><td>0</td><td>  2</td><td>   17</td></tr>\n",
              "\t<tr><td>D</td><td>4</td><td>1</td><td>  3</td><td>   17</td></tr>\n",
              "\t<tr><td>D</td><td>5</td><td>0</td><td>403</td><td>   15</td></tr>\n",
              "\t<tr><td>D</td><td>5</td><td>1</td><td> 83</td><td>   15</td></tr>\n",
              "\t<tr><td>E</td><td>1</td><td>1</td><td>  1</td><td>   49</td></tr>\n",
              "\t<tr><td>E</td><td>2</td><td>0</td><td> 39</td><td>   62</td></tr>\n",
              "\t<tr><td>E</td><td>2</td><td>1</td><td> 22</td><td>   62</td></tr>\n",
              "\t<tr><td>E</td><td>3</td><td>0</td><td>  1</td><td>   93</td></tr>\n",
              "\t<tr><td>⋮</td><td>⋮</td><td>⋮</td><td>⋮</td><td>⋮</td></tr>\n",
              "\t<tr><td>Q</td><td>2</td><td>0</td><td>11</td><td>3494</td></tr>\n",
              "\t<tr><td>Q</td><td>2</td><td>1</td><td> 3</td><td>3494</td></tr>\n",
              "\t<tr><td>Q</td><td>3</td><td>0</td><td>15</td><td> 958</td></tr>\n",
              "\t<tr><td>Q</td><td>3</td><td>1</td><td> 1</td><td> 958</td></tr>\n",
              "\t<tr><td>Q</td><td>4</td><td>0</td><td> 1</td><td> 250</td></tr>\n",
              "\t<tr><td>Q</td><td>4</td><td>1</td><td> 2</td><td> 250</td></tr>\n",
              "\t<tr><td>Q</td><td>5</td><td>0</td><td>11</td><td> 263</td></tr>\n",
              "\t<tr><td>Q</td><td>5</td><td>1</td><td> 1</td><td> 263</td></tr>\n",
              "\t<tr><td>Q</td><td>8</td><td>0</td><td> 1</td><td>  25</td></tr>\n",
              "\t<tr><td>R</td><td>1</td><td>0</td><td>17</td><td>  28</td></tr>\n",
              "\t<tr><td>R</td><td>1</td><td>1</td><td>13</td><td>  28</td></tr>\n",
              "\t<tr><td>R</td><td>2</td><td>0</td><td> 5</td><td> 214</td></tr>\n",
              "\t<tr><td>R</td><td>3</td><td>0</td><td> 7</td><td> 145</td></tr>\n",
              "\t<tr><td>R</td><td>3</td><td>1</td><td> 5</td><td> 145</td></tr>\n",
              "\t<tr><td>R</td><td>4</td><td>0</td><td> 8</td><td> 131</td></tr>\n",
              "\t<tr><td>R</td><td>5</td><td>0</td><td>43</td><td>  87</td></tr>\n",
              "\t<tr><td>R</td><td>5</td><td>1</td><td> 2</td><td>  87</td></tr>\n",
              "\t<tr><td>R</td><td>9</td><td>0</td><td>41</td><td> 119</td></tr>\n",
              "\t<tr><td>S</td><td>1</td><td>0</td><td> 4</td><td>  34</td></tr>\n",
              "\t<tr><td>S</td><td>1</td><td>1</td><td> 4</td><td>  34</td></tr>\n",
              "\t<tr><td>S</td><td>2</td><td>0</td><td>10</td><td>  86</td></tr>\n",
              "\t<tr><td>S</td><td>2</td><td>1</td><td>17</td><td>  86</td></tr>\n",
              "\t<tr><td>S</td><td>3</td><td>0</td><td>14</td><td>  75</td></tr>\n",
              "\t<tr><td>S</td><td>3</td><td>1</td><td> 4</td><td>  75</td></tr>\n",
              "\t<tr><td>S</td><td>4</td><td>0</td><td> 4</td><td> 202</td></tr>\n",
              "\t<tr><td>S</td><td>5</td><td>0</td><td>11</td><td>1926</td></tr>\n",
              "\t<tr><td>S</td><td>5</td><td>1</td><td> 5</td><td>1926</td></tr>\n",
              "\t<tr><td>S</td><td>7</td><td>0</td><td> 1</td><td> 105</td></tr>\n",
              "\t<tr><td>S</td><td>9</td><td>0</td><td> 1</td><td> 197</td></tr>\n",
              "\t<tr><td>S</td><td>9</td><td>1</td><td> 1</td><td> 197</td></tr>\n",
              "</tbody>\n",
              "</table>\n"
            ]
          },
          "metadata": {
            "tags": []
          }
        }
      ]
    },
    {
      "cell_type": "code",
      "metadata": {
        "colab": {
          "base_uri": "https://localhost:8080/",
          "height": 351
        },
        "id": "j3FIsOKOsOP3",
        "outputId": "d55375e3-a48d-4623-f023-41372e59a900"
      },
      "source": [
        "bkl_komp_total <- bkl_komp %>% left_join(wartosci_globalne) %>% mutate(waga = total/n)\n",
        "bkl_inter_total <- bkl_inter %>% left_join(wartosci_globalne) %>% mutate(waga = total/n)\n",
        "head(bkl_inter_total)"
      ],
      "execution_count": 28,
      "outputs": [
        {
          "output_type": "stream",
          "text": [
            "Joining, by = c(\"pkd\", \"zawod1\")\n",
            "\n",
            "Joining, by = c(\"pkd\", \"zawod1\")\n",
            "\n"
          ],
          "name": "stderr"
        },
        {
          "output_type": "display_data",
          "data": {
            "text/plain": [
              "  pkd zawod1 komp_interpersonalne n   total waga    \n",
              "1 C   1      0                    143  523  3.657343\n",
              "2 C   1      1                    187  523  2.796791\n",
              "3 C   2      0                    478 2806  5.870293\n",
              "4 C   2      1                    960 2806  2.922917\n",
              "5 C   3      0                    383 1737  4.535248\n",
              "6 C   3      1                    778 1737  2.232648"
            ],
            "text/latex": "A data.frame: 6 × 6\n\\begin{tabular}{r|llllll}\n  & pkd & zawod1 & komp\\_interpersonalne & n & total & waga\\\\\n  & <chr> & <chr> & <int> & <int> & <dbl> & <dbl>\\\\\n\\hline\n\t1 & C & 1 & 0 & 143 &  523 & 3.657343\\\\\n\t2 & C & 1 & 1 & 187 &  523 & 2.796791\\\\\n\t3 & C & 2 & 0 & 478 & 2806 & 5.870293\\\\\n\t4 & C & 2 & 1 & 960 & 2806 & 2.922917\\\\\n\t5 & C & 3 & 0 & 383 & 1737 & 4.535248\\\\\n\t6 & C & 3 & 1 & 778 & 1737 & 2.232648\\\\\n\\end{tabular}\n",
            "text/markdown": "\nA data.frame: 6 × 6\n\n| <!--/--> | pkd &lt;chr&gt; | zawod1 &lt;chr&gt; | komp_interpersonalne &lt;int&gt; | n &lt;int&gt; | total &lt;dbl&gt; | waga &lt;dbl&gt; |\n|---|---|---|---|---|---|---|\n| 1 | C | 1 | 0 | 143 |  523 | 3.657343 |\n| 2 | C | 1 | 1 | 187 |  523 | 2.796791 |\n| 3 | C | 2 | 0 | 478 | 2806 | 5.870293 |\n| 4 | C | 2 | 1 | 960 | 2806 | 2.922917 |\n| 5 | C | 3 | 0 | 383 | 1737 | 4.535248 |\n| 6 | C | 3 | 1 | 778 | 1737 | 2.232648 |\n\n",
            "text/html": [
              "<table class=\"dataframe\">\n",
              "<caption>A data.frame: 6 × 6</caption>\n",
              "<thead>\n",
              "\t<tr><th></th><th scope=col>pkd</th><th scope=col>zawod1</th><th scope=col>komp_interpersonalne</th><th scope=col>n</th><th scope=col>total</th><th scope=col>waga</th></tr>\n",
              "\t<tr><th></th><th scope=col>&lt;chr&gt;</th><th scope=col>&lt;chr&gt;</th><th scope=col>&lt;int&gt;</th><th scope=col>&lt;int&gt;</th><th scope=col>&lt;dbl&gt;</th><th scope=col>&lt;dbl&gt;</th></tr>\n",
              "</thead>\n",
              "<tbody>\n",
              "\t<tr><th scope=row>1</th><td>C</td><td>1</td><td>0</td><td>143</td><td> 523</td><td>3.657343</td></tr>\n",
              "\t<tr><th scope=row>2</th><td>C</td><td>1</td><td>1</td><td>187</td><td> 523</td><td>2.796791</td></tr>\n",
              "\t<tr><th scope=row>3</th><td>C</td><td>2</td><td>0</td><td>478</td><td>2806</td><td>5.870293</td></tr>\n",
              "\t<tr><th scope=row>4</th><td>C</td><td>2</td><td>1</td><td>960</td><td>2806</td><td>2.922917</td></tr>\n",
              "\t<tr><th scope=row>5</th><td>C</td><td>3</td><td>0</td><td>383</td><td>1737</td><td>4.535248</td></tr>\n",
              "\t<tr><th scope=row>6</th><td>C</td><td>3</td><td>1</td><td>778</td><td>1737</td><td>2.232648</td></tr>\n",
              "</tbody>\n",
              "</table>\n"
            ]
          },
          "metadata": {
            "tags": []
          }
        }
      ]
    },
    {
      "cell_type": "code",
      "metadata": {
        "colab": {
          "base_uri": "https://localhost:8080/",
          "height": 51
        },
        "id": "PjCYZLpGvAD3",
        "outputId": "8148fb63-ecb5-472e-d043-e046cc505918"
      },
      "source": [
        "## estymator post-stratyfikacyjny\n",
        "weighted.mean(bkl_inter_total$komp_interpersonalne, bkl_inter_total$waga)\n",
        "## estymator naiwny\n",
        "weighted.mean(bkl_inter_total$komp_interpersonalne, bkl_inter_total$n)\n",
        "## estymator naiwny wskazuje na nieznaczne przeszacowanie"
      ],
      "execution_count": 30,
      "outputs": [
        {
          "output_type": "display_data",
          "data": {
            "text/plain": [
              "[1] 0.5735054"
            ],
            "text/latex": "0.573505405013297",
            "text/markdown": "0.573505405013297",
            "text/html": [
              "0.573505405013297"
            ]
          },
          "metadata": {
            "tags": []
          }
        },
        {
          "output_type": "display_data",
          "data": {
            "text/plain": [
              "[1] 0.6106634"
            ],
            "text/latex": "0.610663360198388",
            "text/markdown": "0.610663360198388",
            "text/html": [
              "0.610663360198388"
            ]
          },
          "metadata": {
            "tags": []
          }
        }
      ]
    },
    {
      "cell_type": "markdown",
      "metadata": {
        "id": "galFWKPXvl3G"
      },
      "source": [
        "Wykonujemy post-stratyfikację z pakietem `survey`"
      ]
    },
    {
      "cell_type": "code",
      "metadata": {
        "colab": {
          "base_uri": "https://localhost:8080/",
          "height": 337
        },
        "id": "5yL0sJPnvq58",
        "outputId": "c702287e-d1a9-4b7f-e9ee-d628c0a6ba25"
      },
      "source": [
        "## dodawanie pseudo wagi\n",
        "liczba_wakatow <- sum(popyt$waga * popyt$wakaty)\n",
        "liczba_wakatow\n",
        "\n",
        "liczba_ofert_bkl <- nrow(bkl)\n",
        "liczba_ofert_bkl\n",
        "\n",
        "bkl <- bkl %>% mutate(pseudo_waga = liczba_wakatow / liczba_ofert_bkl)\n",
        "head(bkl)"
      ],
      "execution_count": 36,
      "outputs": [
        {
          "output_type": "display_data",
          "data": {
            "text/plain": [
              "[1] 155373"
            ],
            "text/latex": "155373",
            "text/markdown": "155373",
            "text/html": [
              "155373"
            ]
          },
          "metadata": {
            "tags": []
          }
        },
        {
          "output_type": "display_data",
          "data": {
            "text/plain": [
              "[1] 12904"
            ],
            "text/latex": "12904",
            "text/markdown": "12904",
            "text/html": [
              "12904"
            ]
          },
          "metadata": {
            "tags": []
          }
        },
        {
          "output_type": "display_data",
          "data": {
            "text/plain": [
              "      id     zawod1 zawod2 zawod6 woj pkd komp_techniczne komp_matematyczne\n",
              "42425 626307 5      51     514202 04  M   0               0                \n",
              "42426 626305 5      51     514204 12  M   0               0                \n",
              "42427 617154 7      71     713104 14  C   0               0                \n",
              "42428 617155 7      71     713100 14  C   0               0                \n",
              "42429 632044 3      33     332203 24  C   0               0                \n",
              "42430 613019 3      33     332101 14  K   0               0                \n",
              "      komp_kulturalne komp_komputerowe komp_kognitywne komp_kierownicze\n",
              "42425 1               0                0               0               \n",
              "42426 0               0                0               0               \n",
              "42427 0               0                0               0               \n",
              "42428 0               0                0               0               \n",
              "42429 0               0                0               0               \n",
              "42430 0               0                0               0               \n",
              "      komp_interpersonalne komp_indywidualne komp_fizyczne komp_dyspozycyjne\n",
              "42425 0                    1                 0             0                \n",
              "42426 0                    0                 0             0                \n",
              "42427 0                    0                 0             0                \n",
              "42428 0                    0                 0             0                \n",
              "42429 1                    0                 1             0                \n",
              "42430 1                    1                 0             0                \n",
              "      komp_biurowe pseudo_waga\n",
              "42425 0            12.04069   \n",
              "42426 0            12.04069   \n",
              "42427 0            12.04069   \n",
              "42428 0            12.04069   \n",
              "42429 0            12.04069   \n",
              "42430 0            12.04069   "
            ],
            "text/latex": "A data.frame: 6 × 18\n\\begin{tabular}{r|llllllllllllllllll}\n  & id & zawod1 & zawod2 & zawod6 & woj & pkd & komp\\_techniczne & komp\\_matematyczne & komp\\_kulturalne & komp\\_komputerowe & komp\\_kognitywne & komp\\_kierownicze & komp\\_interpersonalne & komp\\_indywidualne & komp\\_fizyczne & komp\\_dyspozycyjne & komp\\_biurowe & pseudo\\_waga\\\\\n  & <dbl> & <chr> & <chr> & <chr> & <chr> & <chr> & <int> & <int> & <int> & <int> & <int> & <int> & <int> & <int> & <int> & <int> & <int> & <dbl>\\\\\n\\hline\n\t42425 & 626307 & 5 & 51 & 514202 & 04 & M & 0 & 0 & 1 & 0 & 0 & 0 & 0 & 1 & 0 & 0 & 0 & 12.04069\\\\\n\t42426 & 626305 & 5 & 51 & 514204 & 12 & M & 0 & 0 & 0 & 0 & 0 & 0 & 0 & 0 & 0 & 0 & 0 & 12.04069\\\\\n\t42427 & 617154 & 7 & 71 & 713104 & 14 & C & 0 & 0 & 0 & 0 & 0 & 0 & 0 & 0 & 0 & 0 & 0 & 12.04069\\\\\n\t42428 & 617155 & 7 & 71 & 713100 & 14 & C & 0 & 0 & 0 & 0 & 0 & 0 & 0 & 0 & 0 & 0 & 0 & 12.04069\\\\\n\t42429 & 632044 & 3 & 33 & 332203 & 24 & C & 0 & 0 & 0 & 0 & 0 & 0 & 1 & 0 & 1 & 0 & 0 & 12.04069\\\\\n\t42430 & 613019 & 3 & 33 & 332101 & 14 & K & 0 & 0 & 0 & 0 & 0 & 0 & 1 & 1 & 0 & 0 & 0 & 12.04069\\\\\n\\end{tabular}\n",
            "text/markdown": "\nA data.frame: 6 × 18\n\n| <!--/--> | id &lt;dbl&gt; | zawod1 &lt;chr&gt; | zawod2 &lt;chr&gt; | zawod6 &lt;chr&gt; | woj &lt;chr&gt; | pkd &lt;chr&gt; | komp_techniczne &lt;int&gt; | komp_matematyczne &lt;int&gt; | komp_kulturalne &lt;int&gt; | komp_komputerowe &lt;int&gt; | komp_kognitywne &lt;int&gt; | komp_kierownicze &lt;int&gt; | komp_interpersonalne &lt;int&gt; | komp_indywidualne &lt;int&gt; | komp_fizyczne &lt;int&gt; | komp_dyspozycyjne &lt;int&gt; | komp_biurowe &lt;int&gt; | pseudo_waga &lt;dbl&gt; |\n|---|---|---|---|---|---|---|---|---|---|---|---|---|---|---|---|---|---|---|\n| 42425 | 626307 | 5 | 51 | 514202 | 04 | M | 0 | 0 | 1 | 0 | 0 | 0 | 0 | 1 | 0 | 0 | 0 | 12.04069 |\n| 42426 | 626305 | 5 | 51 | 514204 | 12 | M | 0 | 0 | 0 | 0 | 0 | 0 | 0 | 0 | 0 | 0 | 0 | 12.04069 |\n| 42427 | 617154 | 7 | 71 | 713104 | 14 | C | 0 | 0 | 0 | 0 | 0 | 0 | 0 | 0 | 0 | 0 | 0 | 12.04069 |\n| 42428 | 617155 | 7 | 71 | 713100 | 14 | C | 0 | 0 | 0 | 0 | 0 | 0 | 0 | 0 | 0 | 0 | 0 | 12.04069 |\n| 42429 | 632044 | 3 | 33 | 332203 | 24 | C | 0 | 0 | 0 | 0 | 0 | 0 | 1 | 0 | 1 | 0 | 0 | 12.04069 |\n| 42430 | 613019 | 3 | 33 | 332101 | 14 | K | 0 | 0 | 0 | 0 | 0 | 0 | 1 | 1 | 0 | 0 | 0 | 12.04069 |\n\n",
            "text/html": [
              "<table class=\"dataframe\">\n",
              "<caption>A data.frame: 6 × 18</caption>\n",
              "<thead>\n",
              "\t<tr><th></th><th scope=col>id</th><th scope=col>zawod1</th><th scope=col>zawod2</th><th scope=col>zawod6</th><th scope=col>woj</th><th scope=col>pkd</th><th scope=col>komp_techniczne</th><th scope=col>komp_matematyczne</th><th scope=col>komp_kulturalne</th><th scope=col>komp_komputerowe</th><th scope=col>komp_kognitywne</th><th scope=col>komp_kierownicze</th><th scope=col>komp_interpersonalne</th><th scope=col>komp_indywidualne</th><th scope=col>komp_fizyczne</th><th scope=col>komp_dyspozycyjne</th><th scope=col>komp_biurowe</th><th scope=col>pseudo_waga</th></tr>\n",
              "\t<tr><th></th><th scope=col>&lt;dbl&gt;</th><th scope=col>&lt;chr&gt;</th><th scope=col>&lt;chr&gt;</th><th scope=col>&lt;chr&gt;</th><th scope=col>&lt;chr&gt;</th><th scope=col>&lt;chr&gt;</th><th scope=col>&lt;int&gt;</th><th scope=col>&lt;int&gt;</th><th scope=col>&lt;int&gt;</th><th scope=col>&lt;int&gt;</th><th scope=col>&lt;int&gt;</th><th scope=col>&lt;int&gt;</th><th scope=col>&lt;int&gt;</th><th scope=col>&lt;int&gt;</th><th scope=col>&lt;int&gt;</th><th scope=col>&lt;int&gt;</th><th scope=col>&lt;int&gt;</th><th scope=col>&lt;dbl&gt;</th></tr>\n",
              "</thead>\n",
              "<tbody>\n",
              "\t<tr><th scope=row>42425</th><td>626307</td><td>5</td><td>51</td><td>514202</td><td>04</td><td>M</td><td>0</td><td>0</td><td>1</td><td>0</td><td>0</td><td>0</td><td>0</td><td>1</td><td>0</td><td>0</td><td>0</td><td>12.04069</td></tr>\n",
              "\t<tr><th scope=row>42426</th><td>626305</td><td>5</td><td>51</td><td>514204</td><td>12</td><td>M</td><td>0</td><td>0</td><td>0</td><td>0</td><td>0</td><td>0</td><td>0</td><td>0</td><td>0</td><td>0</td><td>0</td><td>12.04069</td></tr>\n",
              "\t<tr><th scope=row>42427</th><td>617154</td><td>7</td><td>71</td><td>713104</td><td>14</td><td>C</td><td>0</td><td>0</td><td>0</td><td>0</td><td>0</td><td>0</td><td>0</td><td>0</td><td>0</td><td>0</td><td>0</td><td>12.04069</td></tr>\n",
              "\t<tr><th scope=row>42428</th><td>617155</td><td>7</td><td>71</td><td>713100</td><td>14</td><td>C</td><td>0</td><td>0</td><td>0</td><td>0</td><td>0</td><td>0</td><td>0</td><td>0</td><td>0</td><td>0</td><td>0</td><td>12.04069</td></tr>\n",
              "\t<tr><th scope=row>42429</th><td>632044</td><td>3</td><td>33</td><td>332203</td><td>24</td><td>C</td><td>0</td><td>0</td><td>0</td><td>0</td><td>0</td><td>0</td><td>1</td><td>0</td><td>1</td><td>0</td><td>0</td><td>12.04069</td></tr>\n",
              "\t<tr><th scope=row>42430</th><td>613019</td><td>3</td><td>33</td><td>332101</td><td>14</td><td>K</td><td>0</td><td>0</td><td>0</td><td>0</td><td>0</td><td>0</td><td>1</td><td>1</td><td>0</td><td>0</td><td>0</td><td>12.04069</td></tr>\n",
              "</tbody>\n",
              "</table>\n"
            ]
          },
          "metadata": {
            "tags": []
          }
        }
      ]
    },
    {
      "cell_type": "markdown",
      "metadata": {
        "id": "Hd_BETxLwkm1"
      },
      "source": [
        "Deklarujemy obiekt typy `svydesign` w pakiecie `survey`"
      ]
    },
    {
      "cell_type": "code",
      "metadata": {
        "colab": {
          "base_uri": "https://localhost:8080/",
          "height": 51
        },
        "id": "3eMqHQyJwqME",
        "outputId": "7af556bd-ccee-415c-c211-9e82f7c36e6d"
      },
      "source": [
        "bkl_surv <- svydesign(id = ~1, weights = ~ pseudo_waga, data=bkl) ## id = ~1 ifnormuje funkcję, że każdy rekord jest losowany niezależnie (opis schematu losowania)\n",
        "bkl_surv"
      ],
      "execution_count": 37,
      "outputs": [
        {
          "output_type": "display_data",
          "data": {
            "text/plain": [
              "Independent Sampling design (with replacement)\n",
              "svydesign(id = ~1, weights = ~pseudo_waga, data = bkl)"
            ]
          },
          "metadata": {
            "tags": []
          }
        }
      ]
    },
    {
      "cell_type": "markdown",
      "metadata": {
        "id": "2PJC4kGZw53O"
      },
      "source": [
        "Chcemy oszacować odsetek ofert pracy, w których wystęują kompetencje komputerowe czy interpersonalne"
      ]
    },
    {
      "cell_type": "code",
      "metadata": {
        "colab": {
          "base_uri": "https://localhost:8080/",
          "height": 68
        },
        "id": "YNOQIniwxByE",
        "outputId": "1c71ba36-a2c2-413c-d023-e052ac0eb456"
      },
      "source": [
        "svymean(~komp_komputerowe + komp_interpersonalne, design = bkl_surv)"
      ],
      "execution_count": 39,
      "outputs": [
        {
          "output_type": "display_data",
          "data": {
            "text/plain": [
              "                        mean     SE\n",
              "komp_komputerowe     0.34323 0.0042\n",
              "komp_interpersonalne 0.61066 0.0043"
            ]
          },
          "metadata": {
            "tags": []
          }
        }
      ]
    },
    {
      "cell_type": "code",
      "metadata": {
        "colab": {
          "base_uri": "https://localhost:8080/",
          "height": 612
        },
        "id": "qrfkijohx6lu",
        "outputId": "0c382b48-8367-4bb1-acca-d4e1ec183341"
      },
      "source": [
        "summary(bkl)"
      ],
      "execution_count": 41,
      "outputs": [
        {
          "output_type": "display_data",
          "data": {
            "text/plain": [
              "       id            zawod1             zawod2             zawod6         \n",
              " Min.   :601002   Length:12904       Length:12904       Length:12904      \n",
              " 1st Qu.:610334   Class :character   Class :character   Class :character  \n",
              " Median :623138   Mode  :character   Mode  :character   Mode  :character  \n",
              " Mean   :622935                                                           \n",
              " 3rd Qu.:634203                                                           \n",
              " Max.   :647117                                                           \n",
              "     woj                pkd            komp_techniczne  komp_matematyczne\n",
              " Length:12904       Length:12904       Min.   :0.0000   Min.   :0.00000  \n",
              " Class :character   Class :character   1st Qu.:0.0000   1st Qu.:0.00000  \n",
              " Mode  :character   Mode  :character   Median :0.0000   Median :0.00000  \n",
              "                                       Mean   :0.0444   Mean   :0.00341  \n",
              "                                       3rd Qu.:0.0000   3rd Qu.:0.00000  \n",
              "                                       Max.   :1.0000   Max.   :1.00000  \n",
              " komp_kulturalne  komp_komputerowe komp_kognitywne komp_kierownicze\n",
              " Min.   :0.0000   Min.   :0.0000   Min.   :0.000   Min.   :0.0000  \n",
              " 1st Qu.:0.0000   1st Qu.:0.0000   1st Qu.:0.000   1st Qu.:0.0000  \n",
              " Median :0.0000   Median :0.0000   Median :0.000   Median :0.0000  \n",
              " Mean   :0.1582   Mean   :0.3432   Mean   :0.211   Mean   :0.3121  \n",
              " 3rd Qu.:0.0000   3rd Qu.:1.0000   3rd Qu.:0.000   3rd Qu.:1.0000  \n",
              " Max.   :1.0000   Max.   :1.0000   Max.   :1.000   Max.   :1.0000  \n",
              " komp_interpersonalne komp_indywidualne komp_fizyczne     komp_dyspozycyjne\n",
              " Min.   :0.0000       Min.   :0.0000    Min.   :0.00000   Min.   :0.0000   \n",
              " 1st Qu.:0.0000       1st Qu.:0.0000    1st Qu.:0.00000   1st Qu.:0.0000   \n",
              " Median :1.0000       Median :1.0000    Median :0.00000   Median :0.0000   \n",
              " Mean   :0.6107       Mean   :0.6616    Mean   :0.08036   Mean   :0.2367   \n",
              " 3rd Qu.:1.0000       3rd Qu.:1.0000    3rd Qu.:0.00000   3rd Qu.:0.0000   \n",
              " Max.   :1.0000       Max.   :1.0000    Max.   :1.00000   Max.   :1.0000   \n",
              "  komp_biurowe      pseudo_waga   \n",
              " Min.   :0.00000   Min.   :12.04  \n",
              " 1st Qu.:0.00000   1st Qu.:12.04  \n",
              " Median :0.00000   Median :12.04  \n",
              " Mean   :0.02953   Mean   :12.04  \n",
              " 3rd Qu.:0.00000   3rd Qu.:12.04  \n",
              " Max.   :1.00000   Max.   :12.04  "
            ]
          },
          "metadata": {
            "tags": []
          }
        }
      ]
    },
    {
      "cell_type": "markdown",
      "metadata": {
        "id": "CwwaJl3-yBD0"
      },
      "source": [
        "Dokonujemy post-stratyfikacji"
      ]
    },
    {
      "cell_type": "code",
      "metadata": {
        "colab": {
          "base_uri": "https://localhost:8080/",
          "height": 549
        },
        "id": "0PnbW-zHyDw0",
        "outputId": "c5dbe594-5735-49b6-9612-4430c4dba739"
      },
      "source": [
        "## musze zapewnić, że dane będą tego samego typu\n",
        "head(popyt)\n",
        "popyt <- popyt %>% mutate(zawod1 = as.character(zawod1))\n",
        "head(popyt)"
      ],
      "execution_count": 43,
      "outputs": [
        {
          "output_type": "display_data",
          "data": {
            "text/plain": [
              "  id_popyt                                 woj waga sektor klasa pkd zawod1\n",
              "1 1da98b1d90d55a45173fbf52273388d023f88bda 30  18   2      M     J   3     \n",
              "2 ba9c01a6d5941fb21c6d85d5abee6714d5636ee4 10   1   2      D     C   8     \n",
              "3 772ab1f561648f4125d0432456225d74a083b5bb 22  33   2      M     I   5     \n",
              "4 af0b53b2f75d7edf652af5e3f65553641f1f587a 14   1   2      D     Q   4     \n",
              "5 ab7c3795293f57e4d68f8638878f0a9278e3936a 30   1   1      D     C   7     \n",
              "6 fd8b0d69ae13f2d1baee41f0f69a7da82be04137 10   1   1      S     G   2     \n",
              "  wakaty\n",
              "1  1    \n",
              "2 10    \n",
              "3  5    \n",
              "4  3    \n",
              "5  6    \n",
              "6  1    "
            ],
            "text/latex": "A data.frame: 6 × 8\n\\begin{tabular}{r|llllllll}\n  & id\\_popyt & woj & waga & sektor & klasa & pkd & zawod1 & wakaty\\\\\n  & <chr> & <chr> & <dbl> & <chr> & <chr> & <chr> & <fct> & <dbl>\\\\\n\\hline\n\t1 & 1da98b1d90d55a45173fbf52273388d023f88bda & 30 & 18 & 2 & M & J & 3 &  1\\\\\n\t2 & ba9c01a6d5941fb21c6d85d5abee6714d5636ee4 & 10 &  1 & 2 & D & C & 8 & 10\\\\\n\t3 & 772ab1f561648f4125d0432456225d74a083b5bb & 22 & 33 & 2 & M & I & 5 &  5\\\\\n\t4 & af0b53b2f75d7edf652af5e3f65553641f1f587a & 14 &  1 & 2 & D & Q & 4 &  3\\\\\n\t5 & ab7c3795293f57e4d68f8638878f0a9278e3936a & 30 &  1 & 1 & D & C & 7 &  6\\\\\n\t6 & fd8b0d69ae13f2d1baee41f0f69a7da82be04137 & 10 &  1 & 1 & S & G & 2 &  1\\\\\n\\end{tabular}\n",
            "text/markdown": "\nA data.frame: 6 × 8\n\n| <!--/--> | id_popyt &lt;chr&gt; | woj &lt;chr&gt; | waga &lt;dbl&gt; | sektor &lt;chr&gt; | klasa &lt;chr&gt; | pkd &lt;chr&gt; | zawod1 &lt;fct&gt; | wakaty &lt;dbl&gt; |\n|---|---|---|---|---|---|---|---|---|\n| 1 | 1da98b1d90d55a45173fbf52273388d023f88bda | 30 | 18 | 2 | M | J | 3 |  1 |\n| 2 | ba9c01a6d5941fb21c6d85d5abee6714d5636ee4 | 10 |  1 | 2 | D | C | 8 | 10 |\n| 3 | 772ab1f561648f4125d0432456225d74a083b5bb | 22 | 33 | 2 | M | I | 5 |  5 |\n| 4 | af0b53b2f75d7edf652af5e3f65553641f1f587a | 14 |  1 | 2 | D | Q | 4 |  3 |\n| 5 | ab7c3795293f57e4d68f8638878f0a9278e3936a | 30 |  1 | 1 | D | C | 7 |  6 |\n| 6 | fd8b0d69ae13f2d1baee41f0f69a7da82be04137 | 10 |  1 | 1 | S | G | 2 |  1 |\n\n",
            "text/html": [
              "<table class=\"dataframe\">\n",
              "<caption>A data.frame: 6 × 8</caption>\n",
              "<thead>\n",
              "\t<tr><th></th><th scope=col>id_popyt</th><th scope=col>woj</th><th scope=col>waga</th><th scope=col>sektor</th><th scope=col>klasa</th><th scope=col>pkd</th><th scope=col>zawod1</th><th scope=col>wakaty</th></tr>\n",
              "\t<tr><th></th><th scope=col>&lt;chr&gt;</th><th scope=col>&lt;chr&gt;</th><th scope=col>&lt;dbl&gt;</th><th scope=col>&lt;chr&gt;</th><th scope=col>&lt;chr&gt;</th><th scope=col>&lt;chr&gt;</th><th scope=col>&lt;fct&gt;</th><th scope=col>&lt;dbl&gt;</th></tr>\n",
              "</thead>\n",
              "<tbody>\n",
              "\t<tr><th scope=row>1</th><td>1da98b1d90d55a45173fbf52273388d023f88bda</td><td>30</td><td>18</td><td>2</td><td>M</td><td>J</td><td>3</td><td> 1</td></tr>\n",
              "\t<tr><th scope=row>2</th><td>ba9c01a6d5941fb21c6d85d5abee6714d5636ee4</td><td>10</td><td> 1</td><td>2</td><td>D</td><td>C</td><td>8</td><td>10</td></tr>\n",
              "\t<tr><th scope=row>3</th><td>772ab1f561648f4125d0432456225d74a083b5bb</td><td>22</td><td>33</td><td>2</td><td>M</td><td>I</td><td>5</td><td> 5</td></tr>\n",
              "\t<tr><th scope=row>4</th><td>af0b53b2f75d7edf652af5e3f65553641f1f587a</td><td>14</td><td> 1</td><td>2</td><td>D</td><td>Q</td><td>4</td><td> 3</td></tr>\n",
              "\t<tr><th scope=row>5</th><td>ab7c3795293f57e4d68f8638878f0a9278e3936a</td><td>30</td><td> 1</td><td>1</td><td>D</td><td>C</td><td>7</td><td> 6</td></tr>\n",
              "\t<tr><th scope=row>6</th><td>fd8b0d69ae13f2d1baee41f0f69a7da82be04137</td><td>10</td><td> 1</td><td>1</td><td>S</td><td>G</td><td>2</td><td> 1</td></tr>\n",
              "</tbody>\n",
              "</table>\n"
            ]
          },
          "metadata": {
            "tags": []
          }
        },
        {
          "output_type": "display_data",
          "data": {
            "text/plain": [
              "  id_popyt                                 woj waga sektor klasa pkd zawod1\n",
              "1 1da98b1d90d55a45173fbf52273388d023f88bda 30  18   2      M     J   3     \n",
              "2 ba9c01a6d5941fb21c6d85d5abee6714d5636ee4 10   1   2      D     C   8     \n",
              "3 772ab1f561648f4125d0432456225d74a083b5bb 22  33   2      M     I   5     \n",
              "4 af0b53b2f75d7edf652af5e3f65553641f1f587a 14   1   2      D     Q   4     \n",
              "5 ab7c3795293f57e4d68f8638878f0a9278e3936a 30   1   1      D     C   7     \n",
              "6 fd8b0d69ae13f2d1baee41f0f69a7da82be04137 10   1   1      S     G   2     \n",
              "  wakaty\n",
              "1  1    \n",
              "2 10    \n",
              "3  5    \n",
              "4  3    \n",
              "5  6    \n",
              "6  1    "
            ],
            "text/latex": "A data.frame: 6 × 8\n\\begin{tabular}{r|llllllll}\n  & id\\_popyt & woj & waga & sektor & klasa & pkd & zawod1 & wakaty\\\\\n  & <chr> & <chr> & <dbl> & <chr> & <chr> & <chr> & <chr> & <dbl>\\\\\n\\hline\n\t1 & 1da98b1d90d55a45173fbf52273388d023f88bda & 30 & 18 & 2 & M & J & 3 &  1\\\\\n\t2 & ba9c01a6d5941fb21c6d85d5abee6714d5636ee4 & 10 &  1 & 2 & D & C & 8 & 10\\\\\n\t3 & 772ab1f561648f4125d0432456225d74a083b5bb & 22 & 33 & 2 & M & I & 5 &  5\\\\\n\t4 & af0b53b2f75d7edf652af5e3f65553641f1f587a & 14 &  1 & 2 & D & Q & 4 &  3\\\\\n\t5 & ab7c3795293f57e4d68f8638878f0a9278e3936a & 30 &  1 & 1 & D & C & 7 &  6\\\\\n\t6 & fd8b0d69ae13f2d1baee41f0f69a7da82be04137 & 10 &  1 & 1 & S & G & 2 &  1\\\\\n\\end{tabular}\n",
            "text/markdown": "\nA data.frame: 6 × 8\n\n| <!--/--> | id_popyt &lt;chr&gt; | woj &lt;chr&gt; | waga &lt;dbl&gt; | sektor &lt;chr&gt; | klasa &lt;chr&gt; | pkd &lt;chr&gt; | zawod1 &lt;chr&gt; | wakaty &lt;dbl&gt; |\n|---|---|---|---|---|---|---|---|---|\n| 1 | 1da98b1d90d55a45173fbf52273388d023f88bda | 30 | 18 | 2 | M | J | 3 |  1 |\n| 2 | ba9c01a6d5941fb21c6d85d5abee6714d5636ee4 | 10 |  1 | 2 | D | C | 8 | 10 |\n| 3 | 772ab1f561648f4125d0432456225d74a083b5bb | 22 | 33 | 2 | M | I | 5 |  5 |\n| 4 | af0b53b2f75d7edf652af5e3f65553641f1f587a | 14 |  1 | 2 | D | Q | 4 |  3 |\n| 5 | ab7c3795293f57e4d68f8638878f0a9278e3936a | 30 |  1 | 1 | D | C | 7 |  6 |\n| 6 | fd8b0d69ae13f2d1baee41f0f69a7da82be04137 | 10 |  1 | 1 | S | G | 2 |  1 |\n\n",
            "text/html": [
              "<table class=\"dataframe\">\n",
              "<caption>A data.frame: 6 × 8</caption>\n",
              "<thead>\n",
              "\t<tr><th></th><th scope=col>id_popyt</th><th scope=col>woj</th><th scope=col>waga</th><th scope=col>sektor</th><th scope=col>klasa</th><th scope=col>pkd</th><th scope=col>zawod1</th><th scope=col>wakaty</th></tr>\n",
              "\t<tr><th></th><th scope=col>&lt;chr&gt;</th><th scope=col>&lt;chr&gt;</th><th scope=col>&lt;dbl&gt;</th><th scope=col>&lt;chr&gt;</th><th scope=col>&lt;chr&gt;</th><th scope=col>&lt;chr&gt;</th><th scope=col>&lt;chr&gt;</th><th scope=col>&lt;dbl&gt;</th></tr>\n",
              "</thead>\n",
              "<tbody>\n",
              "\t<tr><th scope=row>1</th><td>1da98b1d90d55a45173fbf52273388d023f88bda</td><td>30</td><td>18</td><td>2</td><td>M</td><td>J</td><td>3</td><td> 1</td></tr>\n",
              "\t<tr><th scope=row>2</th><td>ba9c01a6d5941fb21c6d85d5abee6714d5636ee4</td><td>10</td><td> 1</td><td>2</td><td>D</td><td>C</td><td>8</td><td>10</td></tr>\n",
              "\t<tr><th scope=row>3</th><td>772ab1f561648f4125d0432456225d74a083b5bb</td><td>22</td><td>33</td><td>2</td><td>M</td><td>I</td><td>5</td><td> 5</td></tr>\n",
              "\t<tr><th scope=row>4</th><td>af0b53b2f75d7edf652af5e3f65553641f1f587a</td><td>14</td><td> 1</td><td>2</td><td>D</td><td>Q</td><td>4</td><td> 3</td></tr>\n",
              "\t<tr><th scope=row>5</th><td>ab7c3795293f57e4d68f8638878f0a9278e3936a</td><td>30</td><td> 1</td><td>1</td><td>D</td><td>C</td><td>7</td><td> 6</td></tr>\n",
              "\t<tr><th scope=row>6</th><td>fd8b0d69ae13f2d1baee41f0f69a7da82be04137</td><td>10</td><td> 1</td><td>1</td><td>S</td><td>G</td><td>2</td><td> 1</td></tr>\n",
              "</tbody>\n",
              "</table>\n"
            ]
          },
          "metadata": {
            "tags": []
          }
        }
      ]
    },
    {
      "cell_type": "markdown",
      "metadata": {
        "id": "k6HGiKaly3W9"
      },
      "source": [
        "Tworzymy dane wejściowe do post-stratyfikacji"
      ]
    },
    {
      "cell_type": "code",
      "metadata": {
        "colab": {
          "base_uri": "https://localhost:8080/",
          "height": 68
        },
        "id": "bnLZNiK6y79c",
        "outputId": "b3336ae1-1edc-4079-9a19-b3595b230984"
      },
      "source": [
        "tab_pop_zawod1 <- xtabs(waga*wakaty ~ zawod1, data=popyt) # suma ważona po jednej zmiennej (zawod1)\n",
        "tab_pop_zawod1 # tabela z wartościami globalnymi\n",
        "# dla zawodu 1 było 3178 ofert pracy w badaniu popytu na pracę"
      ],
      "execution_count": 44,
      "outputs": [
        {
          "output_type": "display_data",
          "data": {
            "text/plain": [
              "zawod1\n",
              "    1     2     3     4     5     7     8     9 \n",
              " 3178 21932  8825 14839 17309 49283 25872 14135 "
            ]
          },
          "metadata": {
            "tags": []
          }
        }
      ]
    },
    {
      "cell_type": "code",
      "metadata": {
        "colab": {
          "base_uri": "https://localhost:8080/",
          "height": 51
        },
        "id": "mO8emOuMzjdl",
        "outputId": "4d6fea96-0caa-47f2-d268-98e970a9c617"
      },
      "source": [
        "bkl_surv_ps <- postStratify(design = bkl_surv, strata = ~zawod1, population = tab_pop_zawod1)\n",
        "bkl_surv_ps"
      ],
      "execution_count": 47,
      "outputs": [
        {
          "output_type": "display_data",
          "data": {
            "text/plain": [
              "Independent Sampling design (with replacement)\n",
              "postStratify(design = bkl_surv, strata = ~zawod1, population = tab_pop_zawod1)"
            ]
          },
          "metadata": {
            "tags": []
          }
        }
      ]
    },
    {
      "cell_type": "code",
      "metadata": {
        "colab": {
          "base_uri": "https://localhost:8080/",
          "height": 119
        },
        "id": "-FWKxPwDz2Ek",
        "outputId": "0c60b20f-5a9f-46b9-edff-6b13fceb4252"
      },
      "source": [
        "svymean(~komp_komputerowe + komp_interpersonalne, design = bkl_surv) # wynik przed stratyfikacją\n",
        "svymean(~komp_komputerowe + komp_interpersonalne, design = bkl_surv_ps) # wynik po stratyfikacji\n",
        "## 0.34 --> 0.20 po uwzględnieniu różnić w strukturze zawodów w badaniu bkl i badaniu Popyt na pracę GUS"
      ],
      "execution_count": 49,
      "outputs": [
        {
          "output_type": "display_data",
          "data": {
            "text/plain": [
              "                        mean     SE\n",
              "komp_komputerowe     0.34323 0.0042\n",
              "komp_interpersonalne 0.61066 0.0043"
            ]
          },
          "metadata": {
            "tags": []
          }
        },
        {
          "output_type": "display_data",
          "data": {
            "text/plain": [
              "                        mean     SE\n",
              "komp_komputerowe     0.20432 0.0044\n",
              "komp_interpersonalne 0.34320 0.0061"
            ]
          },
          "metadata": {
            "tags": []
          }
        }
      ]
    },
    {
      "cell_type": "code",
      "metadata": {
        "colab": {
          "base_uri": "https://localhost:8080/",
          "height": 320
        },
        "id": "qG3UImrK0qlE",
        "outputId": "08f7eb63-71fe-4e53-949b-6627e43f51f6"
      },
      "source": [
        "bkl$pseudo_waga_ps <- weights(bkl_surv_ps)\n",
        "head(bkl)\n",
        "sum(bkl$pseudo_waga_ps) # 155373"
      ],
      "execution_count": 51,
      "outputs": [
        {
          "output_type": "display_data",
          "data": {
            "text/plain": [
              "      id     zawod1 zawod2 zawod6 woj pkd komp_techniczne komp_matematyczne\n",
              "42425 626307 5      51     514202 04  M   0               0                \n",
              "42426 626305 5      51     514204 12  M   0               0                \n",
              "42427 617154 7      71     713104 14  C   0               0                \n",
              "42428 617155 7      71     713100 14  C   0               0                \n",
              "42429 632044 3      33     332203 24  C   0               0                \n",
              "42430 613019 3      33     332101 14  K   0               0                \n",
              "      komp_kulturalne komp_komputerowe komp_kognitywne komp_kierownicze\n",
              "42425 1               0                0               0               \n",
              "42426 0               0                0               0               \n",
              "42427 0               0                0               0               \n",
              "42428 0               0                0               0               \n",
              "42429 0               0                0               0               \n",
              "42430 0               0                0               0               \n",
              "      komp_interpersonalne komp_indywidualne komp_fizyczne komp_dyspozycyjne\n",
              "42425 0                    1                 0             0                \n",
              "42426 0                    0                 0             0                \n",
              "42427 0                    0                 0             0                \n",
              "42428 0                    0                 0             0                \n",
              "42429 1                    0                 1             0                \n",
              "42430 1                    1                 0             0                \n",
              "      komp_biurowe pseudo_waga pseudo_waga_ps\n",
              "42425 0            12.04069     5.188549     \n",
              "42426 0            12.04069     5.188549     \n",
              "42427 0            12.04069    66.869742     \n",
              "42428 0            12.04069    66.869742     \n",
              "42429 0            12.04069     3.121684     \n",
              "42430 0            12.04069     3.121684     "
            ],
            "text/latex": "A data.frame: 6 × 19\n\\begin{tabular}{r|lllllllllllllllllll}\n  & id & zawod1 & zawod2 & zawod6 & woj & pkd & komp\\_techniczne & komp\\_matematyczne & komp\\_kulturalne & komp\\_komputerowe & komp\\_kognitywne & komp\\_kierownicze & komp\\_interpersonalne & komp\\_indywidualne & komp\\_fizyczne & komp\\_dyspozycyjne & komp\\_biurowe & pseudo\\_waga & pseudo\\_waga\\_ps\\\\\n  & <dbl> & <chr> & <chr> & <chr> & <chr> & <chr> & <int> & <int> & <int> & <int> & <int> & <int> & <int> & <int> & <int> & <int> & <int> & <dbl> & <dbl>\\\\\n\\hline\n\t42425 & 626307 & 5 & 51 & 514202 & 04 & M & 0 & 0 & 1 & 0 & 0 & 0 & 0 & 1 & 0 & 0 & 0 & 12.04069 &  5.188549\\\\\n\t42426 & 626305 & 5 & 51 & 514204 & 12 & M & 0 & 0 & 0 & 0 & 0 & 0 & 0 & 0 & 0 & 0 & 0 & 12.04069 &  5.188549\\\\\n\t42427 & 617154 & 7 & 71 & 713104 & 14 & C & 0 & 0 & 0 & 0 & 0 & 0 & 0 & 0 & 0 & 0 & 0 & 12.04069 & 66.869742\\\\\n\t42428 & 617155 & 7 & 71 & 713100 & 14 & C & 0 & 0 & 0 & 0 & 0 & 0 & 0 & 0 & 0 & 0 & 0 & 12.04069 & 66.869742\\\\\n\t42429 & 632044 & 3 & 33 & 332203 & 24 & C & 0 & 0 & 0 & 0 & 0 & 0 & 1 & 0 & 1 & 0 & 0 & 12.04069 &  3.121684\\\\\n\t42430 & 613019 & 3 & 33 & 332101 & 14 & K & 0 & 0 & 0 & 0 & 0 & 0 & 1 & 1 & 0 & 0 & 0 & 12.04069 &  3.121684\\\\\n\\end{tabular}\n",
            "text/markdown": "\nA data.frame: 6 × 19\n\n| <!--/--> | id &lt;dbl&gt; | zawod1 &lt;chr&gt; | zawod2 &lt;chr&gt; | zawod6 &lt;chr&gt; | woj &lt;chr&gt; | pkd &lt;chr&gt; | komp_techniczne &lt;int&gt; | komp_matematyczne &lt;int&gt; | komp_kulturalne &lt;int&gt; | komp_komputerowe &lt;int&gt; | komp_kognitywne &lt;int&gt; | komp_kierownicze &lt;int&gt; | komp_interpersonalne &lt;int&gt; | komp_indywidualne &lt;int&gt; | komp_fizyczne &lt;int&gt; | komp_dyspozycyjne &lt;int&gt; | komp_biurowe &lt;int&gt; | pseudo_waga &lt;dbl&gt; | pseudo_waga_ps &lt;dbl&gt; |\n|---|---|---|---|---|---|---|---|---|---|---|---|---|---|---|---|---|---|---|---|\n| 42425 | 626307 | 5 | 51 | 514202 | 04 | M | 0 | 0 | 1 | 0 | 0 | 0 | 0 | 1 | 0 | 0 | 0 | 12.04069 |  5.188549 |\n| 42426 | 626305 | 5 | 51 | 514204 | 12 | M | 0 | 0 | 0 | 0 | 0 | 0 | 0 | 0 | 0 | 0 | 0 | 12.04069 |  5.188549 |\n| 42427 | 617154 | 7 | 71 | 713104 | 14 | C | 0 | 0 | 0 | 0 | 0 | 0 | 0 | 0 | 0 | 0 | 0 | 12.04069 | 66.869742 |\n| 42428 | 617155 | 7 | 71 | 713100 | 14 | C | 0 | 0 | 0 | 0 | 0 | 0 | 0 | 0 | 0 | 0 | 0 | 12.04069 | 66.869742 |\n| 42429 | 632044 | 3 | 33 | 332203 | 24 | C | 0 | 0 | 0 | 0 | 0 | 0 | 1 | 0 | 1 | 0 | 0 | 12.04069 |  3.121684 |\n| 42430 | 613019 | 3 | 33 | 332101 | 14 | K | 0 | 0 | 0 | 0 | 0 | 0 | 1 | 1 | 0 | 0 | 0 | 12.04069 |  3.121684 |\n\n",
            "text/html": [
              "<table class=\"dataframe\">\n",
              "<caption>A data.frame: 6 × 19</caption>\n",
              "<thead>\n",
              "\t<tr><th></th><th scope=col>id</th><th scope=col>zawod1</th><th scope=col>zawod2</th><th scope=col>zawod6</th><th scope=col>woj</th><th scope=col>pkd</th><th scope=col>komp_techniczne</th><th scope=col>komp_matematyczne</th><th scope=col>komp_kulturalne</th><th scope=col>komp_komputerowe</th><th scope=col>komp_kognitywne</th><th scope=col>komp_kierownicze</th><th scope=col>komp_interpersonalne</th><th scope=col>komp_indywidualne</th><th scope=col>komp_fizyczne</th><th scope=col>komp_dyspozycyjne</th><th scope=col>komp_biurowe</th><th scope=col>pseudo_waga</th><th scope=col>pseudo_waga_ps</th></tr>\n",
              "\t<tr><th></th><th scope=col>&lt;dbl&gt;</th><th scope=col>&lt;chr&gt;</th><th scope=col>&lt;chr&gt;</th><th scope=col>&lt;chr&gt;</th><th scope=col>&lt;chr&gt;</th><th scope=col>&lt;chr&gt;</th><th scope=col>&lt;int&gt;</th><th scope=col>&lt;int&gt;</th><th scope=col>&lt;int&gt;</th><th scope=col>&lt;int&gt;</th><th scope=col>&lt;int&gt;</th><th scope=col>&lt;int&gt;</th><th scope=col>&lt;int&gt;</th><th scope=col>&lt;int&gt;</th><th scope=col>&lt;int&gt;</th><th scope=col>&lt;int&gt;</th><th scope=col>&lt;int&gt;</th><th scope=col>&lt;dbl&gt;</th><th scope=col>&lt;dbl&gt;</th></tr>\n",
              "</thead>\n",
              "<tbody>\n",
              "\t<tr><th scope=row>42425</th><td>626307</td><td>5</td><td>51</td><td>514202</td><td>04</td><td>M</td><td>0</td><td>0</td><td>1</td><td>0</td><td>0</td><td>0</td><td>0</td><td>1</td><td>0</td><td>0</td><td>0</td><td>12.04069</td><td> 5.188549</td></tr>\n",
              "\t<tr><th scope=row>42426</th><td>626305</td><td>5</td><td>51</td><td>514204</td><td>12</td><td>M</td><td>0</td><td>0</td><td>0</td><td>0</td><td>0</td><td>0</td><td>0</td><td>0</td><td>0</td><td>0</td><td>0</td><td>12.04069</td><td> 5.188549</td></tr>\n",
              "\t<tr><th scope=row>42427</th><td>617154</td><td>7</td><td>71</td><td>713104</td><td>14</td><td>C</td><td>0</td><td>0</td><td>0</td><td>0</td><td>0</td><td>0</td><td>0</td><td>0</td><td>0</td><td>0</td><td>0</td><td>12.04069</td><td>66.869742</td></tr>\n",
              "\t<tr><th scope=row>42428</th><td>617155</td><td>7</td><td>71</td><td>713100</td><td>14</td><td>C</td><td>0</td><td>0</td><td>0</td><td>0</td><td>0</td><td>0</td><td>0</td><td>0</td><td>0</td><td>0</td><td>0</td><td>12.04069</td><td>66.869742</td></tr>\n",
              "\t<tr><th scope=row>42429</th><td>632044</td><td>3</td><td>33</td><td>332203</td><td>24</td><td>C</td><td>0</td><td>0</td><td>0</td><td>0</td><td>0</td><td>0</td><td>1</td><td>0</td><td>1</td><td>0</td><td>0</td><td>12.04069</td><td> 3.121684</td></tr>\n",
              "\t<tr><th scope=row>42430</th><td>613019</td><td>3</td><td>33</td><td>332101</td><td>14</td><td>K</td><td>0</td><td>0</td><td>0</td><td>0</td><td>0</td><td>0</td><td>1</td><td>1</td><td>0</td><td>0</td><td>0</td><td>12.04069</td><td> 3.121684</td></tr>\n",
              "</tbody>\n",
              "</table>\n"
            ]
          },
          "metadata": {
            "tags": []
          }
        },
        {
          "output_type": "display_data",
          "data": {
            "text/plain": [
              "[1] 155373"
            ],
            "text/latex": "155373",
            "text/markdown": "155373",
            "text/html": [
              "155373"
            ]
          },
          "metadata": {
            "tags": []
          }
        }
      ]
    },
    {
      "cell_type": "markdown",
      "metadata": {
        "id": "ZNzHjiOx5pbG"
      },
      "source": [
        "## Kalibracja\n",
        "\n",
        "Do kalibracji użyjemy trzy zmienne: `pkd` , `zawod1` oraz `woj`"
      ]
    },
    {
      "cell_type": "code",
      "metadata": {
        "colab": {
          "base_uri": "https://localhost:8080/",
          "height": 238
        },
        "id": "__pIZCnp5wFu",
        "outputId": "995742e0-c791-4f1b-8d39-2c3204e24e8b"
      },
      "source": [
        "tab_pop_pkd <- xtabs(waga*wakaty ~ pkd, data=popyt)\n",
        "tab_pop_woj <- xtabs(waga*wakaty ~ woj, data=popyt)\n",
        "tab_pop_pkd\n",
        "tab_pop_zawod1\n",
        "tab_pop_woj"
      ],
      "execution_count": 53,
      "outputs": [
        {
          "output_type": "display_data",
          "data": {
            "text/plain": [
              "pkd\n",
              "    A     B     C     D     E     F     G     H     I     J     K     L     M \n",
              "  488   255 36965   509  1128 23386 34849 12331  6751  6214  2584  1531  7300 \n",
              "    N     O     P     Q     R     S \n",
              " 4828  5434  2013  5339   779  2689 "
            ]
          },
          "metadata": {
            "tags": []
          }
        },
        {
          "output_type": "display_data",
          "data": {
            "text/plain": [
              "zawod1\n",
              "    1     2     3     4     5     7     8     9 \n",
              " 3178 21932  8825 14839 17309 49283 25872 14135 "
            ]
          },
          "metadata": {
            "tags": []
          }
        },
        {
          "output_type": "display_data",
          "data": {
            "text/plain": [
              "woj\n",
              "   02    04    06    08    10    12    14    16    18    20    22    24    26 \n",
              "13725 13032  4358  2906  7957 18663 30555  2391  4888  1789 10573 16881  2073 \n",
              "   28    30    32 \n",
              " 3428 16805  5349 "
            ]
          },
          "metadata": {
            "tags": []
          }
        }
      ]
    },
    {
      "cell_type": "markdown",
      "metadata": {
        "id": "qdu1ek046eKc"
      },
      "source": [
        "Dokonujemy klibracji w wykorzystaniem funkcji `calibrate`"
      ]
    },
    {
      "cell_type": "code",
      "metadata": {
        "colab": {
          "base_uri": "https://localhost:8080/",
          "height": 354
        },
        "id": "vXUQqINV6izj",
        "outputId": "f6652ad8-4c38-4f79-93a3-81bc661a5024"
      },
      "source": [
        "bkl_surv_cal <- calibrate(design = bkl_surv,\n",
        "                formula = list(~zawod1, ~woj), \n",
        "                population = list(tab_pop_zawod1, tab_pop_woj))\n",
        "bkl_surv_cal\n",
        "bkl$pseudo_waga_cal <- weights(bkl_surv_cal)\n",
        "head(bkl)"
      ],
      "execution_count": 59,
      "outputs": [
        {
          "output_type": "display_data",
          "data": {
            "text/plain": [
              "Independent Sampling design (with replacement)\n",
              "calibrate(design = bkl_surv, formula = list(~zawod1, ~woj), population = list(tab_pop_zawod1, \n",
              "    tab_pop_woj))"
            ]
          },
          "metadata": {
            "tags": []
          }
        },
        {
          "output_type": "display_data",
          "data": {
            "text/plain": [
              "      id     zawod1 zawod2 zawod6 woj pkd komp_techniczne komp_matematyczne\n",
              "42425 626307 5      51     514202 04  M   0               0                \n",
              "42426 626305 5      51     514204 12  M   0               0                \n",
              "42427 617154 7      71     713104 14  C   0               0                \n",
              "42428 617155 7      71     713100 14  C   0               0                \n",
              "42429 632044 3      33     332203 24  C   0               0                \n",
              "42430 613019 3      33     332101 14  K   0               0                \n",
              "      komp_kulturalne komp_komputerowe komp_kognitywne komp_kierownicze\n",
              "42425 1               0                0               0               \n",
              "42426 0               0                0               0               \n",
              "42427 0               0                0               0               \n",
              "42428 0               0                0               0               \n",
              "42429 0               0                0               0               \n",
              "42430 0               0                0               0               \n",
              "      komp_interpersonalne komp_indywidualne komp_fizyczne komp_dyspozycyjne\n",
              "42425 0                    1                 0             0                \n",
              "42426 0                    0                 0             0                \n",
              "42427 0                    0                 0             0                \n",
              "42428 0                    0                 0             0                \n",
              "42429 1                    0                 1             0                \n",
              "42430 1                    1                 0             0                \n",
              "      komp_biurowe pseudo_waga pseudo_waga_ps pseudo_waga_cal\n",
              "42425 0            12.04069     5.188549      11.207997      \n",
              "42426 0            12.04069     5.188549       8.924961      \n",
              "42427 0            12.04069    66.869742      69.958450      \n",
              "42428 0            12.04069    66.869742      69.958450      \n",
              "42429 0            12.04069     3.121684       2.348824      \n",
              "42430 0            12.04069     3.121684       6.099183      "
            ],
            "text/latex": "A data.frame: 6 × 20\n\\begin{tabular}{r|llllllllllllllllllll}\n  & id & zawod1 & zawod2 & zawod6 & woj & pkd & komp\\_techniczne & komp\\_matematyczne & komp\\_kulturalne & komp\\_komputerowe & komp\\_kognitywne & komp\\_kierownicze & komp\\_interpersonalne & komp\\_indywidualne & komp\\_fizyczne & komp\\_dyspozycyjne & komp\\_biurowe & pseudo\\_waga & pseudo\\_waga\\_ps & pseudo\\_waga\\_cal\\\\\n  & <dbl> & <chr> & <chr> & <chr> & <chr> & <chr> & <int> & <int> & <int> & <int> & <int> & <int> & <int> & <int> & <int> & <int> & <int> & <dbl> & <dbl> & <dbl>\\\\\n\\hline\n\t42425 & 626307 & 5 & 51 & 514202 & 04 & M & 0 & 0 & 1 & 0 & 0 & 0 & 0 & 1 & 0 & 0 & 0 & 12.04069 &  5.188549 & 11.207997\\\\\n\t42426 & 626305 & 5 & 51 & 514204 & 12 & M & 0 & 0 & 0 & 0 & 0 & 0 & 0 & 0 & 0 & 0 & 0 & 12.04069 &  5.188549 &  8.924961\\\\\n\t42427 & 617154 & 7 & 71 & 713104 & 14 & C & 0 & 0 & 0 & 0 & 0 & 0 & 0 & 0 & 0 & 0 & 0 & 12.04069 & 66.869742 & 69.958450\\\\\n\t42428 & 617155 & 7 & 71 & 713100 & 14 & C & 0 & 0 & 0 & 0 & 0 & 0 & 0 & 0 & 0 & 0 & 0 & 12.04069 & 66.869742 & 69.958450\\\\\n\t42429 & 632044 & 3 & 33 & 332203 & 24 & C & 0 & 0 & 0 & 0 & 0 & 0 & 1 & 0 & 1 & 0 & 0 & 12.04069 &  3.121684 &  2.348824\\\\\n\t42430 & 613019 & 3 & 33 & 332101 & 14 & K & 0 & 0 & 0 & 0 & 0 & 0 & 1 & 1 & 0 & 0 & 0 & 12.04069 &  3.121684 &  6.099183\\\\\n\\end{tabular}\n",
            "text/markdown": "\nA data.frame: 6 × 20\n\n| <!--/--> | id &lt;dbl&gt; | zawod1 &lt;chr&gt; | zawod2 &lt;chr&gt; | zawod6 &lt;chr&gt; | woj &lt;chr&gt; | pkd &lt;chr&gt; | komp_techniczne &lt;int&gt; | komp_matematyczne &lt;int&gt; | komp_kulturalne &lt;int&gt; | komp_komputerowe &lt;int&gt; | komp_kognitywne &lt;int&gt; | komp_kierownicze &lt;int&gt; | komp_interpersonalne &lt;int&gt; | komp_indywidualne &lt;int&gt; | komp_fizyczne &lt;int&gt; | komp_dyspozycyjne &lt;int&gt; | komp_biurowe &lt;int&gt; | pseudo_waga &lt;dbl&gt; | pseudo_waga_ps &lt;dbl&gt; | pseudo_waga_cal &lt;dbl&gt; |\n|---|---|---|---|---|---|---|---|---|---|---|---|---|---|---|---|---|---|---|---|---|\n| 42425 | 626307 | 5 | 51 | 514202 | 04 | M | 0 | 0 | 1 | 0 | 0 | 0 | 0 | 1 | 0 | 0 | 0 | 12.04069 |  5.188549 | 11.207997 |\n| 42426 | 626305 | 5 | 51 | 514204 | 12 | M | 0 | 0 | 0 | 0 | 0 | 0 | 0 | 0 | 0 | 0 | 0 | 12.04069 |  5.188549 |  8.924961 |\n| 42427 | 617154 | 7 | 71 | 713104 | 14 | C | 0 | 0 | 0 | 0 | 0 | 0 | 0 | 0 | 0 | 0 | 0 | 12.04069 | 66.869742 | 69.958450 |\n| 42428 | 617155 | 7 | 71 | 713100 | 14 | C | 0 | 0 | 0 | 0 | 0 | 0 | 0 | 0 | 0 | 0 | 0 | 12.04069 | 66.869742 | 69.958450 |\n| 42429 | 632044 | 3 | 33 | 332203 | 24 | C | 0 | 0 | 0 | 0 | 0 | 0 | 1 | 0 | 1 | 0 | 0 | 12.04069 |  3.121684 |  2.348824 |\n| 42430 | 613019 | 3 | 33 | 332101 | 14 | K | 0 | 0 | 0 | 0 | 0 | 0 | 1 | 1 | 0 | 0 | 0 | 12.04069 |  3.121684 |  6.099183 |\n\n",
            "text/html": [
              "<table class=\"dataframe\">\n",
              "<caption>A data.frame: 6 × 20</caption>\n",
              "<thead>\n",
              "\t<tr><th></th><th scope=col>id</th><th scope=col>zawod1</th><th scope=col>zawod2</th><th scope=col>zawod6</th><th scope=col>woj</th><th scope=col>pkd</th><th scope=col>komp_techniczne</th><th scope=col>komp_matematyczne</th><th scope=col>komp_kulturalne</th><th scope=col>komp_komputerowe</th><th scope=col>komp_kognitywne</th><th scope=col>komp_kierownicze</th><th scope=col>komp_interpersonalne</th><th scope=col>komp_indywidualne</th><th scope=col>komp_fizyczne</th><th scope=col>komp_dyspozycyjne</th><th scope=col>komp_biurowe</th><th scope=col>pseudo_waga</th><th scope=col>pseudo_waga_ps</th><th scope=col>pseudo_waga_cal</th></tr>\n",
              "\t<tr><th></th><th scope=col>&lt;dbl&gt;</th><th scope=col>&lt;chr&gt;</th><th scope=col>&lt;chr&gt;</th><th scope=col>&lt;chr&gt;</th><th scope=col>&lt;chr&gt;</th><th scope=col>&lt;chr&gt;</th><th scope=col>&lt;int&gt;</th><th scope=col>&lt;int&gt;</th><th scope=col>&lt;int&gt;</th><th scope=col>&lt;int&gt;</th><th scope=col>&lt;int&gt;</th><th scope=col>&lt;int&gt;</th><th scope=col>&lt;int&gt;</th><th scope=col>&lt;int&gt;</th><th scope=col>&lt;int&gt;</th><th scope=col>&lt;int&gt;</th><th scope=col>&lt;int&gt;</th><th scope=col>&lt;dbl&gt;</th><th scope=col>&lt;dbl&gt;</th><th scope=col>&lt;dbl&gt;</th></tr>\n",
              "</thead>\n",
              "<tbody>\n",
              "\t<tr><th scope=row>42425</th><td>626307</td><td>5</td><td>51</td><td>514202</td><td>04</td><td>M</td><td>0</td><td>0</td><td>1</td><td>0</td><td>0</td><td>0</td><td>0</td><td>1</td><td>0</td><td>0</td><td>0</td><td>12.04069</td><td> 5.188549</td><td>11.207997</td></tr>\n",
              "\t<tr><th scope=row>42426</th><td>626305</td><td>5</td><td>51</td><td>514204</td><td>12</td><td>M</td><td>0</td><td>0</td><td>0</td><td>0</td><td>0</td><td>0</td><td>0</td><td>0</td><td>0</td><td>0</td><td>0</td><td>12.04069</td><td> 5.188549</td><td> 8.924961</td></tr>\n",
              "\t<tr><th scope=row>42427</th><td>617154</td><td>7</td><td>71</td><td>713104</td><td>14</td><td>C</td><td>0</td><td>0</td><td>0</td><td>0</td><td>0</td><td>0</td><td>0</td><td>0</td><td>0</td><td>0</td><td>0</td><td>12.04069</td><td>66.869742</td><td>69.958450</td></tr>\n",
              "\t<tr><th scope=row>42428</th><td>617155</td><td>7</td><td>71</td><td>713100</td><td>14</td><td>C</td><td>0</td><td>0</td><td>0</td><td>0</td><td>0</td><td>0</td><td>0</td><td>0</td><td>0</td><td>0</td><td>0</td><td>12.04069</td><td>66.869742</td><td>69.958450</td></tr>\n",
              "\t<tr><th scope=row>42429</th><td>632044</td><td>3</td><td>33</td><td>332203</td><td>24</td><td>C</td><td>0</td><td>0</td><td>0</td><td>0</td><td>0</td><td>0</td><td>1</td><td>0</td><td>1</td><td>0</td><td>0</td><td>12.04069</td><td> 3.121684</td><td> 2.348824</td></tr>\n",
              "\t<tr><th scope=row>42430</th><td>613019</td><td>3</td><td>33</td><td>332101</td><td>14</td><td>K</td><td>0</td><td>0</td><td>0</td><td>0</td><td>0</td><td>0</td><td>1</td><td>1</td><td>0</td><td>0</td><td>0</td><td>12.04069</td><td> 3.121684</td><td> 6.099183</td></tr>\n",
              "</tbody>\n",
              "</table>\n"
            ]
          },
          "metadata": {
            "tags": []
          }
        }
      ]
    },
    {
      "cell_type": "markdown",
      "metadata": {
        "id": "0WTlRzsa8Zo-"
      },
      "source": [
        "Porównujemy wynikimi trzech estymatorów: + naiwnego, + postratyfikacyjnego i kalibracyjnego"
      ]
    },
    {
      "cell_type": "code",
      "metadata": {
        "colab": {
          "base_uri": "https://localhost:8080/",
          "height": 170
        },
        "id": "AO6HpkRA8j9c",
        "outputId": "67e0a451-2f0b-4648-b2c6-6b727c552824"
      },
      "source": [
        "svymean(~komp_komputerowe + komp_interpersonalne, design = bkl_surv) # wynik przed stratyfikacją\n",
        "svymean(~komp_komputerowe + komp_interpersonalne, design = bkl_surv_ps)\n",
        "svymean(~komp_komputerowe + komp_interpersonalne, design = bkl_surv_cal) # wychodzi na to, że wojewodztwo niewiele nam wnosi\n"
      ],
      "execution_count": 60,
      "outputs": [
        {
          "output_type": "display_data",
          "data": {
            "text/plain": [
              "                        mean     SE\n",
              "komp_komputerowe     0.34323 0.0042\n",
              "komp_interpersonalne 0.61066 0.0043"
            ]
          },
          "metadata": {
            "tags": []
          }
        },
        {
          "output_type": "display_data",
          "data": {
            "text/plain": [
              "                        mean     SE\n",
              "komp_komputerowe     0.20432 0.0044\n",
              "komp_interpersonalne 0.34320 0.0061"
            ]
          },
          "metadata": {
            "tags": []
          }
        },
        {
          "output_type": "display_data",
          "data": {
            "text/plain": [
              "                        mean     SE\n",
              "komp_komputerowe     0.20764 0.0046\n",
              "komp_interpersonalne 0.34169 0.0062"
            ]
          },
          "metadata": {
            "tags": []
          }
        }
      ]
    },
    {
      "cell_type": "markdown",
      "metadata": {
        "id": "3BuTCsFB88LS"
      },
      "source": [
        "Podsumowanie:\n",
        "1. aby skorygować wyniki z próby nielosowej należy poszukać jakiegoś zewnętrzengo (do próby nielosowej) źródła danych, np. spis, rejestry administracyjne, próby losowe;\n",
        "2. trzeba sprawdzić jakie zmienne $X$ (demograficzna i inne charakterystyki) korelują z przynależnością do próby nielosowej (oznaczone jako R/delta) i zmiennej celu ($Y$) --> im lepsza (wyższa) korelacja tym wykorzystanie tych zmiennych powinno zmniejszyć obciążenie.\n",
        "3. dobór zmiennych jest kluczowy --> w szczegółach będzie o tym jutro\n",
        "4. trzeba ujednolicić zmienne (aby w obu zbiorach były takie same)\n",
        "5. wybór metody: post-stratyfikacja czy kalibracja? Warto wybrać kalibrację z racji tego, że jest ona bardziej elastyczna choć wymaga oprogramowania\n",
        "6. przeprowadzenie estymacji z wykorzystaniem wag, które uzyskamy z kroku 5"
      ]
    },
    {
      "cell_type": "code",
      "metadata": {
        "colab": {
          "base_uri": "https://localhost:8080/",
          "height": 68
        },
        "id": "nwtVO-sL-VE6",
        "outputId": "1b044285-07e7-4d86-8527-c8c239b8ed12"
      },
      "source": [
        "weighted.mean(bkl$komp_interpersonalne, bkl$pseudo_waga)\n",
        "weighted.mean(bkl$komp_interpersonalne, bkl$pseudo_waga_cal)\n",
        "weighted.mean(bkl$komp_interpersonalne, bkl$pseudo_waga_ps)"
      ],
      "execution_count": 62,
      "outputs": [
        {
          "output_type": "display_data",
          "data": {
            "text/plain": [
              "[1] 0.6106634"
            ],
            "text/latex": "0.610663360198388",
            "text/markdown": "0.610663360198388",
            "text/html": [
              "0.610663360198388"
            ]
          },
          "metadata": {
            "tags": []
          }
        },
        {
          "output_type": "display_data",
          "data": {
            "text/plain": [
              "[1] 0.3416862"
            ],
            "text/latex": "0.341686161737168",
            "text/markdown": "0.341686161737168",
            "text/html": [
              "0.341686161737168"
            ]
          },
          "metadata": {
            "tags": []
          }
        },
        {
          "output_type": "display_data",
          "data": {
            "text/plain": [
              "[1] 0.3432004"
            ],
            "text/latex": "0.343200367690183",
            "text/markdown": "0.343200367690183",
            "text/html": [
              "0.343200367690183"
            ]
          },
          "metadata": {
            "tags": []
          }
        }
      ]
    },
    {
      "cell_type": "code",
      "metadata": {
        "colab": {
          "base_uri": "https://localhost:8080/",
          "height": 68
        },
        "id": "c6LEdmYS-xUa",
        "outputId": "797c36b7-446f-4c75-b41e-166392ec7b0f"
      },
      "source": [
        "weighted.mean(bkl$komp_techniczne, bkl$pseudo_waga)\n",
        "weighted.mean(bkl$komp_techniczne, bkl$pseudo_waga_cal)\n",
        "weighted.mean(bkl$komp_techniczne, bkl$pseudo_waga_ps)"
      ],
      "execution_count": 63,
      "outputs": [
        {
          "output_type": "display_data",
          "data": {
            "text/plain": [
              "[1] 0.04440484"
            ],
            "text/latex": "0.0444048357098574",
            "text/markdown": "0.0444048357098574",
            "text/html": [
              "0.0444048357098574"
            ]
          },
          "metadata": {
            "tags": []
          }
        },
        {
          "output_type": "display_data",
          "data": {
            "text/plain": [
              "[1] 0.1042676"
            ],
            "text/latex": "0.104267598093811",
            "text/markdown": "0.104267598093811",
            "text/html": [
              "0.104267598093811"
            ]
          },
          "metadata": {
            "tags": []
          }
        },
        {
          "output_type": "display_data",
          "data": {
            "text/plain": [
              "[1] 0.1042938"
            ],
            "text/latex": "0.10429382450215",
            "text/markdown": "0.10429382450215",
            "text/html": [
              "0.10429382450215"
            ]
          },
          "metadata": {
            "tags": []
          }
        }
      ]
    }
  ]
}